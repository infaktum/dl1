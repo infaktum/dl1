{
 "cells": [
  {
   "cell_type": "markdown",
   "id": "1763e3b7-d858-4bfa-b916-6cddc5398024",
   "metadata": {},
   "source": [
    "# Perceptron"
   ]
  },
  {
   "cell_type": "code",
   "execution_count": 1,
   "id": "19cf3e5c-b538-492f-9722-f5a27dbb2f25",
   "metadata": {},
   "outputs": [],
   "source": [
    "import torch\n",
    "import torch.nn as nn\n",
    "import torch.nn.functional as F\n",
    "\n",
    "import matplotlib.pyplot as plt\n",
    "import numpy as np\n",
    "\n",
    "%matplotlib inline"
   ]
  },
  {
   "cell_type": "code",
   "execution_count": 2,
   "id": "868f11de-1ee1-44cf-9eb1-61438e081165",
   "metadata": {},
   "outputs": [
    {
     "name": "stdout",
     "output_type": "stream",
     "text": [
      "Gewichte: Parameter containing:\n",
      "tensor([[-0.3216,  0.6347],\n",
      "        [ 0.5442,  0.0104]], requires_grad=True)\n",
      "Bias: Parameter containing:\n",
      "tensor([0.2622, 0.6980], requires_grad=True)\n"
     ]
    }
   ],
   "source": [
    "perceptron = nn.Linear(in_features = 2, out_features = 2)\n",
    "print(f'Gewichte: {perceptron.weight}\\nBias: {perceptron.bias}')"
   ]
  },
  {
   "cell_type": "markdown",
   "id": "d401d813-94de-4122-982a-396c2df7ec6e",
   "metadata": {},
   "source": [
    "Wir erstellen einen Eingabe-Tensor mit zwei Features (direkt als Batch), wenden das Netzwerk auf den Tensor an und erhalten den Ausgabetensor:"
   ]
  },
  {
   "cell_type": "code",
   "execution_count": 3,
   "id": "eeddc9fa-508d-4bef-b610-524ced0144cf",
   "metadata": {},
   "outputs": [
    {
     "name": "stdout",
     "output_type": "stream",
     "text": [
      "1\n"
     ]
    }
   ],
   "source": [
    "input = torch.unsqueeze(torch.tensor([1.,1.]), dim=0)\n",
    "output = perceptron(input)\n",
    "output = F.softmax(output, dim=1).detach().numpy().flatten()\n",
    "print(output.argmax())"
   ]
  },
  {
   "cell_type": "markdown",
   "id": "43fd8f22-3d74-4040-850a-f64368e254bd",
   "metadata": {},
   "source": [
    "$$\\text{Softmax}(x_{i}) = \\frac{\\exp(x_i)}{\\sum_j \\exp(x_j)}$$"
   ]
  },
  {
   "cell_type": "code",
   "execution_count": 4,
   "id": "2809d875-ec57-4b42-8e79-4354c4fb4390",
   "metadata": {},
   "outputs": [
    {
     "name": "stdout",
     "output_type": "stream",
     "text": [
      "Help on function softmax in module torch.nn.functional:\n",
      "\n",
      "softmax(input: torch.Tensor, dim: Optional[int] = None, _stacklevel: int = 3, dtype: Optional[int] = None) -> torch.Tensor\n",
      "    Apply a softmax function.\n",
      "\n",
      "    Softmax is defined as:\n",
      "\n",
      "    :math:`\\text{Softmax}(x_{i}) = \\frac{\\exp(x_i)}{\\sum_j \\exp(x_j)}`\n",
      "\n",
      "    It is applied to all slices along dim, and will re-scale them so that the elements\n",
      "    lie in the range `[0, 1]` and sum to 1.\n",
      "\n",
      "    See :class:`~torch.nn.Softmax` for more details.\n",
      "\n",
      "    Args:\n",
      "        input (Tensor): input\n",
      "        dim (int): A dimension along which softmax will be computed.\n",
      "        dtype (:class:`torch.dtype`, optional): the desired data type of returned tensor.\n",
      "          If specified, the input tensor is casted to :attr:`dtype` before the operation\n",
      "          is performed. This is useful for preventing data type overflows. Default: None.\n",
      "\n",
      "    .. note::\n",
      "        This function doesn't work directly with NLLLoss,\n",
      "        which expects the Log to be computed between the Softmax and itself.\n",
      "        Use log_softmax instead (it's faster and has better numerical properties).\n",
      "\n"
     ]
    }
   ],
   "source": [
    "help(F.softmax)"
   ]
  },
  {
   "cell_type": "code",
   "execution_count": 8,
   "id": "c03e8d0c-b22f-41d6-a161-3a37dabc736f",
   "metadata": {},
   "outputs": [],
   "source": [
    "x = torch.arange(20.)\n",
    "y = F.softmax(x,dim=0)"
   ]
  },
  {
   "cell_type": "code",
   "execution_count": 9,
   "id": "d4a74332-366c-4a5d-a4be-c4321a2c2c21",
   "metadata": {},
   "outputs": [
    {
     "data": {
      "image/png": "[encoded data removed]",
      "text/plain": [
       "<Figure size 640x480 with 1 Axes>"
      ]
     },
     "metadata": {},
     "output_type": "display_data"
    }
   ],
   "source": [
    "import matplotlib.pyplot as plt\n",
    "\n",
    "plt.plot(x.numpy(),y.numpy())\n",
    "plt.show()"
   ]
  },
  {
   "cell_type": "code",
   "execution_count": null,
   "id": "1049c137-a67a-4bfe-85e8-a9466ef216de",
   "metadata": {},
   "outputs": [],
   "source": []
  }
 ],
 "metadata": {
  "kernelspec": {
   "display_name": "Python 3 (ipykernel)",
   "language": "python",
   "name": "python3"
  },
  "language_info": {
   "codemirror_mode": {
    "name": "ipython",
    "version": 3
   },
   "file_extension": ".py",
   "mimetype": "text/x-python",
   "name": "python",
   "nbconvert_exporter": "python",
   "pygments_lexer": "ipython3",
   "version": "3.12.9"
  }
 },
 "nbformat": 4,
 "nbformat_minor": 5
}
