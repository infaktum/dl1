{
 "cells": [
  {
   "cell_type": "code",
   "execution_count": 1,
   "id": "dec84ad5-4733-43f9-9346-14ef1dfa596f",
   "metadata": {},
   "outputs": [],
   "source": [
    "import matplotlib.pyplot as plt\n",
    "\n",
    "import torch\n",
    "import torchvision\n",
    "import torch.nn as nn\n",
    "import torch.optim as optim\n",
    "from torch.utils.data import Dataset, DataLoader\n",
    "from torchvision import transforms\n",
    "\n",
    "\n",
    "device = torch.device(\"cuda\" if torch.cuda.is_available() else \"cpu\")\n",
    "\n",
    "# load data\n",
    "transform = transforms.Compose([transforms.ToTensor(),\n",
    "\n",
    "                                ])\n",
    "\n",
    "trainset = torchvision.datasets.MNIST(root='./data/', train=True, download=True, transform=transform)\n",
    "testset = torchvision.datasets.MNIST(root='./data/', train=False, download=True, transform=transform)\n",
    "\n",
    "\n",
    "class MNISTDataset(Dataset):\n",
    "\n",
    "  def __init__(self, X, y):\n",
    "\n",
    "    self.X = X.type(torch.cuda.FloatTensor).to(device)\n",
    "    self.y = nn.functional.one_hot(y).type(torch.cuda.FloatTensor).to(device)\n",
    "\n",
    "\n",
    "  def __len__(self):\n",
    "    return len(self.X)\n",
    "\n",
    "\n",
    "  def __getitem__(self, idx):\n",
    "\n",
    "    features = self.X[idx]\n",
    "    target = self.y[idx]\n",
    "\n",
    "    return features, target\n",
    "\n",
    "\n",
    "train_dataset = MNISTDataset(trainset.data, trainset.targets)\n",
    "test_dataset = MNISTDataset(testset.data, testset.targets)\n",
    "\n",
    "train_loader = DataLoader(train_dataset, shuffle=True, batch_size=32)\n",
    "test_loader = DataLoader(test_dataset, shuffle=True, batch_size=32)\n"
   ]
  },
  {
   "cell_type": "code",
   "execution_count": 2,
   "id": "0bab757c-6a47-434a-a2dc-f184f5fc346c",
   "metadata": {},
   "outputs": [
    {
     "name": "stdout",
     "output_type": "stream",
     "text": [
      "Feature batch shape: torch.Size([32, 28, 28])\n",
      "Labels batch shape: torch.Size([32, 10])\n"
     ]
    },
    {
     "data": {
      "image/png": "[encoded data removed]",
      "text/plain": [
       "<Figure size 640x480 with 1 Axes>"
      ]
     },
     "metadata": {},
     "output_type": "display_data"
    },
    {
     "name": "stdout",
     "output_type": "stream",
     "text": [
      "Label: 3\n"
     ]
    }
   ],
   "source": [
    "train_features, train_labels = next(iter(train_loader))\n",
    "print(f\"Feature batch shape: {train_features.size()}\")\n",
    "print(f\"Labels batch shape: {train_labels.size()}\")\n",
    "img = train_features[0].squeeze().to(\"cpu\")\n",
    "label = train_labels[0].to(\"cpu\")\n",
    "plt.imshow(img, cmap=\"gray\")\n",
    "plt.show()\n",
    "print(f\"Label: {label.argmax().item()}\")\n",
    "\n",
    "\n"
   ]
  },
  {
   "cell_type": "code",
   "execution_count": 3,
   "id": "b1bea253-3eea-4117-88ae-90242ed8a388",
   "metadata": {},
   "outputs": [],
   "source": [
    "class MyModel(nn.Module):\n",
    "    def __init__(self):\n",
    "        super().__init__()\n",
    "\n",
    "        # Convolutional layer 1\n",
    "        self.conv1 = nn.Conv2d(1, 32, 3, 1)\n",
    "\n",
    "        # Convolutional layer 2\n",
    "        self.conv2 = nn.Conv2d(32, 64, 3, 1)\n",
    "\n",
    "        # Fully connected layer 1\n",
    "        self.fc1 = nn.Linear(1600, 1200)\n",
    "\n",
    "        # Fully connected layer 2\n",
    "        self.fc2 = nn.Linear(1200, 10)\n",
    "\n",
    "    def forward(self, x):\n",
    "        # Pass the input image through the convolutional layers\n",
    "        x = self.conv1(x)\n",
    "        x = nn.functional.relu(x)\n",
    "        x = nn.functional.max_pool2d(x, 2)\n",
    "\n",
    "        x = self.conv2(x)\n",
    "        x = nn.functional.relu(x)\n",
    "        x = nn.functional.max_pool2d(x, 2)\n",
    "\n",
    "        # Flatten the output from the convolutional layers\n",
    "        x = x.view(-1, 1600)\n",
    "\n",
    "        # Pass the output from the convolutional layers through the fully connected layers\n",
    "        x = self.fc1(x)\n",
    "        x = nn.functional.relu(x)\n",
    "        x = self.fc2(x)\n",
    "\n",
    "        # Return the output of the fully connected layers\n",
    "        return x"
   ]
  },
  {
   "cell_type": "code",
   "execution_count": 4,
   "id": "8cdb559e-deba-4d77-b1ad-8d4d1e7e9f2e",
   "metadata": {},
   "outputs": [],
   "source": [
    "model = MyModel().to(device)"
   ]
  },
  {
   "cell_type": "code",
   "execution_count": 5,
   "id": "60a2a33e-1cae-415a-b2fe-a67f4ada299b",
   "metadata": {},
   "outputs": [
    {
     "name": "stdout",
     "output_type": "stream",
     "text": [
      "So it begins\n"
     ]
    },
    {
     "name": "stderr",
     "output_type": "stream",
     "text": [
      " 20%|██        | 1/5 [00:07<00:31,  7.90s/it]"
     ]
    },
    {
     "name": "stdout",
     "output_type": "stream",
     "text": [
      "Finished epoch 0, latest loss 0.06133272126317024\n"
     ]
    },
    {
     "name": "stderr",
     "output_type": "stream",
     "text": [
      " 40%|████      | 2/5 [00:15<00:22,  7.53s/it]"
     ]
    },
    {
     "name": "stdout",
     "output_type": "stream",
     "text": [
      "Finished epoch 1, latest loss 0.002783433999866247\n"
     ]
    },
    {
     "name": "stderr",
     "output_type": "stream",
     "text": [
      " 60%|██████    | 3/5 [00:22<00:14,  7.42s/it]"
     ]
    },
    {
     "name": "stdout",
     "output_type": "stream",
     "text": [
      "Finished epoch 2, latest loss 0.021485840901732445\n"
     ]
    },
    {
     "name": "stderr",
     "output_type": "stream",
     "text": [
      " 80%|████████  | 4/5 [00:29<00:07,  7.36s/it]"
     ]
    },
    {
     "name": "stdout",
     "output_type": "stream",
     "text": [
      "Finished epoch 3, latest loss 0.1228615939617157\n"
     ]
    },
    {
     "name": "stderr",
     "output_type": "stream",
     "text": [
      "100%|██████████| 5/5 [00:37<00:00,  7.40s/it]"
     ]
    },
    {
     "name": "stdout",
     "output_type": "stream",
     "text": [
      "Finished epoch 4, latest loss 0.02526308409869671\n"
     ]
    },
    {
     "name": "stderr",
     "output_type": "stream",
     "text": [
      "\n"
     ]
    }
   ],
   "source": [
    "from tqdm import tqdm\n",
    "\n",
    "loss_fn = nn.CrossEntropyLoss()\n",
    "optimizer = optim.Adam(model.parameters(), lr=0.001)\n",
    "\n",
    "n_epochs = 5\n",
    "\n",
    "\n",
    "print(\"So it begins\")\n",
    "model.train()\n",
    "for epoch in tqdm(range(n_epochs)):\n",
    "    for X_batch, y_batch in train_loader:\n",
    "\n",
    "        X_batch = X_batch.unsqueeze(1)\n",
    "        y_pred = model(X_batch)\n",
    "        loss = loss_fn(y_pred, y_batch)\n",
    "        optimizer.zero_grad()\n",
    "        loss.backward()\n",
    "        optimizer.step()\n",
    "\n",
    "    print(f'Finished epoch {epoch}, latest loss {loss}')\n"
   ]
  },
  {
   "cell_type": "code",
   "execution_count": 6,
   "id": "9c37ebe2-a77a-406f-8fa8-bf55b1fa1201",
   "metadata": {},
   "outputs": [],
   "source": [
    "\n",
    "import torchmetrics"
   ]
  },
  {
   "cell_type": "code",
   "execution_count": 7,
   "id": "f56c7b17-d322-402f-81f1-1019bd83e3e7",
   "metadata": {},
   "outputs": [
    {
     "name": "stdout",
     "output_type": "stream",
     "text": [
      "Accuracy on test data: 1.000000\n",
      "Precision on test data: 1.000000\n",
      "Recall on test data: 1.000000\n"
     ]
    }
   ],
   "source": [
    "# Initialize precision and recall metrics\n",
    "precision_metric = torchmetrics.Precision(task=\"multiclass\", num_classes=10).to(device)\n",
    "recall_metric = torchmetrics.Recall(task=\"multiclass\", num_classes=10).to(device)\n",
    "accuracy_metric = torchmetrics.Accuracy(task=\"multiclass\", num_classes=10).to(device)\n",
    "\n",
    "\n",
    "\n",
    "# Iterate over the test data\n",
    "with torch.no_grad():\n",
    "    for X_batch, y_batch in test_loader:\n",
    "        # Make predictions\n",
    "        X_batch = X_batch.unsqueeze(1)\n",
    "        outputs = model(X_batch)\n",
    "\n",
    "        # Update accuracy metric\n",
    "\n",
    "        _, predicted = torch.max(outputs.data, 1)\n",
    "        _, y_batch = torch.max(outputs.data, 1)\n",
    "\n",
    "        accuracy_metric.update(predicted, y_batch)\n",
    "        precision_metric.update(predicted, y_batch)\n",
    "        recall_metric.update(predicted, y_batch)\n",
    "\n",
    "\n",
    "\n",
    "\n",
    "# Calculate average precision and recall\n",
    "accuracy = precision_metric.compute()\n",
    "precision = precision_metric.compute()\n",
    "recall = recall_metric.compute()\n",
    "print('Accuracy on test data: %f' % accuracy)\n",
    "print('Precision on test data: %f' % precision)\n",
    "print('Recall on test data: %f' % recall)"
   ]
  },
  {
   "cell_type": "code",
   "execution_count": null,
   "id": "5747c34e-09dd-4250-b043-a71d9777d3c0",
   "metadata": {},
   "outputs": [],
   "source": []
  }
 ],
 "metadata": {
  "kernelspec": {
   "display_name": "Python 3 (ipykernel)",
   "language": "python",
   "name": "python3"
  },
  "language_info": {
   "codemirror_mode": {
    "name": "ipython",
    "version": 3
   },
   "file_extension": ".py",
   "mimetype": "text/x-python",
   "name": "python",
   "nbconvert_exporter": "python",
   "pygments_lexer": "ipython3",
   "version": "3.12.3"
  }
 },
 "nbformat": 4,
 "nbformat_minor": 5
}
