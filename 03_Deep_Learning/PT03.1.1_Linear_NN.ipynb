{
 "cells": [
  {
   "cell_type": "markdown",
   "id": "f565077a-85b7-4788-9792-2890a3f4f269",
   "metadata": {},
   "source": [
    "# Lineares Neuronales Netzwerk"
   ]
  },
  {
   "cell_type": "markdown",
   "id": "625db08b-c0e0-4cd2-9839-70c3cfb79aed",
   "metadata": {},
   "source": [
    "[![Open In Colab](https://colab.research.google.com/assets/colab-badge.svg)](https://colab.research.google.com/infaktum/dl1/03_Deep_Learning/PT03.1.1_Linear_NN.ipynb)"
   ]
  },
  {
   "cell_type": "markdown",
   "id": "381e6b26-6e5a-4dcd-ab4d-0af43ab493f1",
   "metadata": {},
   "source": [
    "Als einfachstes Beispiel für ein Neuronales Netzwerk in `PyTorch` demonstrieren wir ein vollständig verbundenes (_fully connected_) lineares Netzwerk mit zwei Schichten."
   ]
  },
  {
   "cell_type": "code",
   "execution_count": 1,
   "id": "19cf3e5c-b538-492f-9722-f5a27dbb2f25",
   "metadata": {},
   "outputs": [],
   "source": [
    "import torch\n",
    "import torch.nn as nn"
   ]
  },
  {
   "cell_type": "markdown",
   "id": "f1f865ab-eb08-48bd-a5d3-d2aded9fd7ba",
   "metadata": {},
   "source": [
    "### Aufbau eines Linear NN\n",
    "\n",
    "Zur Erzeugung geben wir die Anzahl der Eingabeneuronen sowie die Anzahl der Ausgabeneuronen an. Diese sind immer durch das Problem definiert: Die Anzahl der Eingabeneuronen entspricht der Anzahl der __Features__ und die Anzahl der Ausgabeneuronen  der Anzahl der __Klassen__.\n",
    "\n",
    "Wenn die Eingangdaten über drei Features verfügen und in zwei Klassen aufgeteilt werden sollen, so definieren wir ein lineares NN wir folgt:"
   ]
  },
  {
   "cell_type": "code",
   "execution_count": 2,
   "id": "dbe5bac7-de40-4e50-a20c-89a0546dc039",
   "metadata": {},
   "outputs": [],
   "source": [
    "fc = nn.Linear(in_features = 3, out_features = 2)"
   ]
  },
  {
   "cell_type": "markdown",
   "id": "43c0bcda-9114-4b13-9df3-a10060b7ea73",
   "metadata": {},
   "source": [
    "Die Gewichte bilden einen zufällig generierten Tensor:"
   ]
  },
  {
   "cell_type": "code",
   "execution_count": 8,
   "id": "84daacc8-bfb3-43b3-91de-cfe6672649a6",
   "metadata": {},
   "outputs": [
    {
     "name": "stdout",
     "output_type": "stream",
     "text": [
      "Netzwerk: Linear(in_features=3, out_features=2, bias=True)\n",
      "Gewichte: Parameter containing:\n",
      "tensor([[-0.4004,  0.1939,  0.2568],\n",
      "        [-0.5047, -0.1425, -0.0705]], requires_grad=True)\n",
      "Bias: Parameter containing:\n",
      "tensor([ 0.4323, -0.0508], requires_grad=True)\n"
     ]
    }
   ],
   "source": [
    "print(f'Netzwerk: {fc}\\nGewichte: {fc.weight}\\nBias: {fc.bias}')"
   ]
  },
  {
   "cell_type": "markdown",
   "id": "aa3c08d4-3d4a-4c12-9b86-ddd0989f3f6f",
   "metadata": {},
   "source": [
    "Der Gewichtstensor ist eine 2x3-Matrix. Sowohl bei ihm als auch beim Bias ist `required_grad` aktiviert, damit eine Backpropagation möglich ist."
   ]
  },
  {
   "cell_type": "markdown",
   "id": "7e66b352-7cc8-4310-954f-e3f82941a849",
   "metadata": {},
   "source": [
    "Wir erstellen einen Eingabe-Tensor mit drei Features:"
   ]
  },
  {
   "cell_type": "code",
   "execution_count": 9,
   "id": "8d43bda9-76c6-4a70-b003-5d6b8935dbed",
   "metadata": {},
   "outputs": [],
   "source": [
    "input = torch.tensor([[0.374, 0.4547, -0.2356]])"
   ]
  },
  {
   "cell_type": "markdown",
   "id": "d401d813-94de-4122-982a-396c2df7ec6e",
   "metadata": {},
   "source": [
    "Wir wenden das Netzwerk auf den Tensor an und erhalten den Ausgabetensor:"
   ]
  },
  {
   "cell_type": "code",
   "execution_count": 10,
   "id": "eeddc9fa-508d-4bef-b610-524ced0144cf",
   "metadata": {},
   "outputs": [
    {
     "data": {
      "text/plain": [
       "tensor([[ 0.3102, -0.2877]], grad_fn=<AddmmBackward0>)"
      ]
     },
     "execution_count": 10,
     "metadata": {},
     "output_type": "execute_result"
    }
   ],
   "source": [
    "output = fc(input)\n",
    "output"
   ]
  },
  {
   "cell_type": "code",
   "execution_count": null,
   "id": "e209637f-77bd-47f0-8415-cd41dede539e",
   "metadata": {},
   "outputs": [],
   "source": []
  }
 ],
 "metadata": {
  "kernelspec": {
   "display_name": "Python 3 (ipykernel)",
   "language": "python",
   "name": "python3"
  },
  "language_info": {
   "codemirror_mode": {
    "name": "ipython",
    "version": 3
   },
   "file_extension": ".py",
   "mimetype": "text/x-python",
   "name": "python",
   "nbconvert_exporter": "python",
   "pygments_lexer": "ipython3",
   "version": "3.12.3"
  }
 },
 "nbformat": 4,
 "nbformat_minor": 5
}
