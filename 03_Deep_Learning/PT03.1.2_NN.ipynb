{
 "cells": [
  {
   "cell_type": "markdown",
   "id": "f565077a-85b7-4788-9792-2890a3f4f269",
   "metadata": {},
   "source": [
    "# Sequentielles Neuronales Netzwerk"
   ]
  },
  {
   "cell_type": "markdown",
   "id": "381e6b26-6e5a-4dcd-ab4d-0af43ab493f1",
   "metadata": {},
   "source": [
    "Lineare Neuronale Netzwerke bringen schon einiges an Funktionen; sie können aber nur als _lineare Klassifizierer_ verwendet werden. Neuronale Nezwerke erhalten ihre Durchschlagskraft erst durch das Vorhandensein __verborgener Schichten__ (_hidden layers_).\n",
    "\n",
    "In `PyTorch` werden Netzwerke mit verborgenen Schichten durch Zusammenschalten Linearer Netzwerke erzielt, deren Ausgangsneuronen die Eingangsneuronen der nächsten Schicht bilden."
   ]
  },
  {
   "cell_type": "code",
   "execution_count": 1,
   "id": "260f1be5-08ab-4e82-9621-68172ce8c24d",
   "metadata": {},
   "outputs": [],
   "source": [
    "import torch\n",
    "import torch.nn as nn"
   ]
  },
  {
   "cell_type": "code",
   "execution_count": 9,
   "id": "06bbe94d-a171-41e4-ba10-253489bbda28",
   "metadata": {},
   "outputs": [],
   "source": [
    "n_features, n_classes = 8, 2\n",
    "sequential = nn.Sequential(\n",
    "    nn.Linear(n_features, 4),\n",
    "    nn.Linear(4, n_classes)\n",
    ")"
   ]
  },
  {
   "cell_type": "markdown",
   "id": "55b95ef6-ea1d-4282-b9f4-4b65e13deca3",
   "metadata": {
    "jp-MarkdownHeadingCollapsed": true
   },
   "source": [
    "Die Anzahl der Parameter (Gewichte und Bias) wird _model capacity_ genannt. Die Methode `numel()`gibt die Anzahl der Parameter eines tensors  zurück:"
   ]
  },
  {
   "cell_type": "code",
   "execution_count": 17,
   "id": "8d43bda9-76c6-4a70-b003-5d6b8935dbed",
   "metadata": {},
   "outputs": [
    {
     "name": "stdout",
     "output_type": "stream",
     "text": [
      "Parameter containing:\n",
      "tensor([[ 0.1919,  0.2773, -0.1742, -0.2454, -0.0268,  0.0849, -0.2819,  0.2359],\n",
      "        [-0.2245, -0.3110,  0.3090, -0.1731, -0.0224, -0.1219, -0.2058, -0.1174],\n",
      "        [ 0.1164, -0.1399,  0.3104, -0.0597,  0.0412, -0.2646,  0.0370, -0.2347],\n",
      "        [-0.1672,  0.3428,  0.1552,  0.2147,  0.0731,  0.1483, -0.1882,  0.0923]],\n",
      "       requires_grad=True) 32\n",
      "Parameter containing:\n",
      "tensor([-0.0004,  0.2606,  0.0739, -0.2238], requires_grad=True) 4\n",
      "Parameter containing:\n",
      "tensor([[ 0.1194, -0.0531, -0.3539,  0.0356],\n",
      "        [-0.4885,  0.0291, -0.0663, -0.1487]], requires_grad=True) 8\n",
      "Parameter containing:\n",
      "tensor([ 0.3250, -0.1834], requires_grad=True) 2\n",
      "46\n"
     ]
    }
   ],
   "source": [
    "total = 0\n",
    "for p in sequential.parameters():\n",
    "    print(p,p.numel())\n",
    "    total += p.numel()\n",
    "print(total)"
   ]
  },
  {
   "cell_type": "markdown",
   "id": "d401d813-94de-4122-982a-396c2df7ec6e",
   "metadata": {},
   "source": [
    "Wir wenden das Netzwerk auf den Tensor an und erhalten den Ausgabetensor:"
   ]
  }
 ],
 "metadata": {
  "kernelspec": {
   "display_name": "Python 3 (ipykernel)",
   "language": "python",
   "name": "python3"
  },
  "language_info": {
   "codemirror_mode": {
    "name": "ipython",
    "version": 3
   },
   "file_extension": ".py",
   "mimetype": "text/x-python",
   "name": "python",
   "nbconvert_exporter": "python",
   "pygments_lexer": "ipython3",
   "version": "3.12.9"
  }
 },
 "nbformat": 4,
 "nbformat_minor": 5
}
