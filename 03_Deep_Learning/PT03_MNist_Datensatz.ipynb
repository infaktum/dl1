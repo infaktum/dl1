{
 "cells": [
  {
   "cell_type": "markdown",
   "id": "d87f5b70-3591-4dd6-8c91-fd30a564f00a",
   "metadata": {},
   "source": [
    "# PT03 - Die MNIST-DB und PyTorch"
   ]
  },
  {
   "cell_type": "code",
   "execution_count": 12,
   "id": "9c117e1b-73e6-440d-a81b-20bdd1e5637e",
   "metadata": {},
   "outputs": [],
   "source": [
    "import matplotlib.pyplot as plt\n",
    "\n",
    "import torch\n",
    "import torch.nn as nn\n",
    "from torch.utils.data import Dataset\n",
    "\n",
    "%matplotlib inline"
   ]
  },
  {
   "cell_type": "markdown",
   "id": "c4373ae2-bfc6-41ac-9286-1c3485514f08",
   "metadata": {},
   "source": [
    "### Warnungen ausschalten"
   ]
  },
  {
   "cell_type": "code",
   "execution_count": 13,
   "id": "876d73d1-3c33-4f68-963a-e5b31ae12a3c",
   "metadata": {
    "tags": []
   },
   "outputs": [],
   "source": [
    "import warnings\n",
    "warnings.filterwarnings(\"ignore\")"
   ]
  },
  {
   "cell_type": "markdown",
   "id": "2bae5b3c-e279-4fcb-9740-a7bc1eacf48d",
   "metadata": {},
   "source": [
    "### GPU-Check"
   ]
  },
  {
   "cell_type": "code",
   "execution_count": 3,
   "id": "0de72a39-17d0-4fd4-97cb-3a92bb59736b",
   "metadata": {
    "tags": []
   },
   "outputs": [],
   "source": [
    "device =  \"cuda\" if torch.cuda.is_available else \"cpu\""
   ]
  },
  {
   "cell_type": "markdown",
   "id": "4897c68a-17c9-4abb-9bd8-109a650a9570",
   "metadata": {},
   "source": [
    "### MNIST-Datensatz einlesen"
   ]
  },
  {
   "cell_type": "code",
   "execution_count": 14,
   "id": "bd7f5d8f-e0bd-45db-bcf4-8b4c2efab568",
   "metadata": {},
   "outputs": [],
   "source": [
    "import torchvision\n",
    "from torchvision import transforms\n",
    "from torch.utils.data import Dataset, DataLoader\n",
    "\n",
    "transform = transforms.Compose([transforms.ToTensor(),])\n",
    "\n",
    "trainset = torchvision.datasets.MNIST(root='./data/', train=True, download=True, transform=transform)\n",
    "testset = torchvision.datasets.MNIST(root='./data/', train=False, download=True, transform=transform)\n",
    "\n",
    "class MNISTDataset(Dataset):\n",
    "  def __init__(self, X, y):\n",
    "\n",
    "    self.X = X.type(torch.cuda.FloatTensor).to(device)\n",
    "    self.y = nn.functional.one_hot(y).type(torch.cuda.FloatTensor).to(device)\n",
    "  def __len__(self):\n",
    "    return len(self.X)\n",
    "\n",
    "\n",
    "  def __getitem__(self, idx):\n",
    "    features = self.X[idx]\n",
    "    target = self.y[idx]\n",
    "    return features, target\n",
    "\n",
    "\n",
    "train_dataset = MNISTDataset(trainset.data, trainset.targets)\n",
    "test_dataset = MNISTDataset(testset.data, testset.targets)\n",
    "\n",
    "train_loader = DataLoader(train_dataset, shuffle=True, batch_size=32)\n",
    "test_loader = DataLoader(test_dataset, shuffle=True, batch_size=32)"
   ]
  },
  {
   "cell_type": "code",
   "execution_count": 15,
   "id": "8679c6e3-7715-44b7-8a5e-a891403241de",
   "metadata": {},
   "outputs": [
    {
     "name": "stdout",
     "output_type": "stream",
     "text": [
      "Feature batch shape: torch.Size([32, 28, 28])\n",
      "Labels batch shape: torch.Size([32, 10])\n"
     ]
    },
    {
     "data": {
      "image/png": "[encoded data removed]",
      "text/plain": [
       "<Figure size 640x480 with 1 Axes>"
      ]
     },
     "metadata": {},
     "output_type": "display_data"
    },
    {
     "name": "stdout",
     "output_type": "stream",
     "text": [
      "Label: 8\n"
     ]
    }
   ],
   "source": [
    "train_features, train_labels = next(iter(train_loader))\n",
    "print(f\"Feature batch shape: {train_features.size()}\")\n",
    "print(f\"Labels batch shape: {train_labels.size()}\")\n",
    "img = train_features[0].squeeze().to(\"cpu\")\n",
    "label = train_labels[0].to(\"cpu\")\n",
    "plt.imshow(img, cmap=\"gray\")\n",
    "plt.show()\n",
    "print(f\"Label: {label.argmax().item()}\")\n"
   ]
  },
  {
   "cell_type": "markdown",
   "id": "d0b24c29-9cec-4c6a-b5b2-4c248e418d2c",
   "metadata": {},
   "source": [
    "### Die Klasse Classifier"
   ]
  },
  {
   "cell_type": "code",
   "execution_count": 16,
   "id": "c6819ac7-8f22-469f-8228-d2fd803a8a4d",
   "metadata": {},
   "outputs": [],
   "source": [
    "class MyModel(nn.Module):\n",
    "    def __init__(self):\n",
    "        super().__init__()\n",
    "\n",
    "        # Convolutional layer 1\n",
    "        self.conv1 = nn.Conv2d(1, 32, 3, 1)\n",
    "\n",
    "        # Convolutional layer 2\n",
    "        self.conv2 = nn.Conv2d(32, 64, 3, 1)\n",
    "\n",
    "        # Fully connected layer 1\n",
    "        self.fc1 = nn.Linear(1600, 1200)\n",
    "\n",
    "        # Fully connected layer 2\n",
    "        self.fc2 = nn.Linear(1200, 10)\n",
    "\n",
    "    def forward(self, x):\n",
    "        # Pass the input image through the convolutional layers\n",
    "        x = self.conv1(x)\n",
    "        x = nn.functional.relu(x)\n",
    "        x = nn.functional.max_pool2d(x, 2)\n",
    "\n",
    "        x = self.conv2(x)\n",
    "        x = nn.functional.relu(x)\n",
    "        x = nn.functional.max_pool2d(x, 2)\n",
    "\n",
    "        # Flatten the output from the convolutional layers\n",
    "        x = x.view(-1, 1600)\n",
    "\n",
    "        # Pass the output from the convolutional layers through the fully connected layers\n",
    "        x = self.fc1(x)\n",
    "        x = nn.functional.relu(x)\n",
    "        x = self.fc2(x)\n",
    "\n",
    "        # Return the output of the fully connected layers\n",
    "        return x"
   ]
  },
  {
   "cell_type": "markdown",
   "id": "c19f8346-9e5d-427a-8b9d-c5e3168224f3",
   "metadata": {},
   "source": [
    "#### Training des Netzes"
   ]
  },
  {
   "cell_type": "code",
   "execution_count": 18,
   "id": "dd293223-8af1-4374-8551-9079b1d7bb70",
   "metadata": {},
   "outputs": [],
   "source": [
    "model = MyModel().to(device)\n",
    " "
   ]
  },
  {
   "cell_type": "code",
   "execution_count": 22,
   "id": "72428239-e7b3-4844-8959-3b61e10238f7",
   "metadata": {},
   "outputs": [
    {
     "name": "stdout",
     "output_type": "stream",
     "text": [
      "So it begins\n"
     ]
    },
    {
     "name": "stderr",
     "output_type": "stream",
     "text": [
      " 20%|██        | 1/5 [00:07<00:29,  7.46s/it]"
     ]
    },
    {
     "name": "stdout",
     "output_type": "stream",
     "text": [
      "Finished epoch 0, latest loss 0.14645369350910187\n"
     ]
    },
    {
     "name": "stderr",
     "output_type": "stream",
     "text": [
      " 40%|████      | 2/5 [00:14<00:22,  7.38s/it]"
     ]
    },
    {
     "name": "stdout",
     "output_type": "stream",
     "text": [
      "Finished epoch 1, latest loss 0.006371030583977699\n"
     ]
    },
    {
     "name": "stderr",
     "output_type": "stream",
     "text": [
      " 60%|██████    | 3/5 [00:22<00:14,  7.37s/it]"
     ]
    },
    {
     "name": "stdout",
     "output_type": "stream",
     "text": [
      "Finished epoch 2, latest loss 0.0031177436467260122\n"
     ]
    },
    {
     "name": "stderr",
     "output_type": "stream",
     "text": [
      " 80%|████████  | 4/5 [00:29<00:07,  7.35s/it]"
     ]
    },
    {
     "name": "stdout",
     "output_type": "stream",
     "text": [
      "Finished epoch 3, latest loss 0.19576381146907806\n"
     ]
    },
    {
     "name": "stderr",
     "output_type": "stream",
     "text": [
      "100%|██████████| 5/5 [00:36<00:00,  7.35s/it]"
     ]
    },
    {
     "name": "stdout",
     "output_type": "stream",
     "text": [
      "Finished epoch 4, latest loss 0.023618120700120926\n"
     ]
    },
    {
     "name": "stderr",
     "output_type": "stream",
     "text": [
      "\n"
     ]
    }
   ],
   "source": [
    "from tqdm import tqdm\n",
    "import torch.optim as optim\n",
    "loss_fn = nn.CrossEntropyLoss()\n",
    "optimizer = optim.Adam(model.parameters(), lr=0.001)\n",
    "\n",
    "n_epochs = 5\n",
    "\n",
    "\n",
    "print(\"So it begins\")\n",
    "model.train()\n",
    "for epoch in tqdm(range(n_epochs)):\n",
    "    for X_batch, y_batch in train_loader:\n",
    "\n",
    "        X_batch = X_batch.unsqueeze(1)\n",
    "        y_pred = model(X_batch)\n",
    "        loss = loss_fn(y_pred, y_batch)\n",
    "        optimizer.zero_grad()\n",
    "        loss.backward()\n",
    "        optimizer.step()\n",
    "\n",
    "    print(f'Finished epoch {epoch}, latest loss {loss}')\n"
   ]
  },
  {
   "cell_type": "markdown",
   "id": "cc284a2c-b8e8-4e3b-ab35-0b92fec7f180",
   "metadata": {},
   "source": [
    "#### Test des Netzes"
   ]
  },
  {
   "cell_type": "code",
   "execution_count": 23,
   "id": "4018f73d-dba9-4a10-95b9-4508d9ebdfb6",
   "metadata": {},
   "outputs": [
    {
     "name": "stdout",
     "output_type": "stream",
     "text": [
      "Accuracy on test data: 1.000000\n",
      "Precision on test data: 1.000000\n",
      "Recall on test data: 1.000000\n"
     ]
    }
   ],
   "source": [
    "import torchmetrics\n",
    "# Initialize precision and recall metrics\n",
    "precision_metric = torchmetrics.Precision(task=\"multiclass\", num_classes=10).to(device)\n",
    "recall_metric = torchmetrics.Recall(task=\"multiclass\", num_classes=10).to(device)\n",
    "accuracy_metric = torchmetrics.Accuracy(task=\"multiclass\", num_classes=10).to(device)\n",
    "\n",
    "\n",
    "\n",
    "# Iterate over the test data\n",
    "with torch.no_grad():\n",
    "    for X_batch, y_batch in test_loader:\n",
    "        # Make predictions\n",
    "        X_batch = X_batch.unsqueeze(1)\n",
    "        outputs = model(X_batch)\n",
    "\n",
    "        # Update accuracy metric\n",
    "\n",
    "        _, predicted = torch.max(outputs.data, 1)\n",
    "        _, y_batch = torch.max(outputs.data, 1)\n",
    "\n",
    "        accuracy_metric.update(predicted, y_batch)\n",
    "        precision_metric.update(predicted, y_batch)\n",
    "        recall_metric.update(predicted, y_batch)\n",
    "\n",
    "\n",
    "\n",
    "\n",
    "# Calculate average precision and recall\n",
    "accuracy = precision_metric.compute()\n",
    "precision = precision_metric.compute()\n",
    "recall = recall_metric.compute()\n",
    "print('Accuracy on test data: %f' % accuracy)\n",
    "print('Precision on test data: %f' % precision)\n",
    "print('Recall on test data: %f' % recall)"
   ]
  },
  {
   "cell_type": "code",
   "execution_count": null,
   "id": "e08efb00-685a-4257-8628-6c0f25f6e40f",
   "metadata": {},
   "outputs": [],
   "source": []
  }
 ],
 "metadata": {
  "kernelspec": {
   "display_name": "Python 3 (ipykernel)",
   "language": "python",
   "name": "python3"
  },
  "language_info": {
   "codemirror_mode": {
    "name": "ipython",
    "version": 3
   },
   "file_extension": ".py",
   "mimetype": "text/x-python",
   "name": "python",
   "nbconvert_exporter": "python",
   "pygments_lexer": "ipython3",
   "version": "3.12.3"
  }
 },
 "nbformat": 4,
 "nbformat_minor": 5
}
