{
 "cells": [
  {
   "cell_type": "markdown",
   "id": "d87f5b70-3591-4dd6-8c91-fd30a564f00a",
   "metadata": {},
   "source": [
    "# PT03 - Die MNIST-DB und PyTorch"
   ]
  },
  {
   "cell_type": "code",
   "execution_count": 2,
   "id": "9c117e1b-73e6-440d-a81b-20bdd1e5637e",
   "metadata": {},
   "outputs": [
    {
     "ename": "ModuleNotFoundError",
     "evalue": "No module named 'mnist'",
     "output_type": "error",
     "traceback": [
      "\u001b[1;31m---------------------------------------------------------------------------\u001b[0m",
      "\u001b[1;31mModuleNotFoundError\u001b[0m                       Traceback (most recent call last)",
      "Cell \u001b[1;32mIn[2], line 7\u001b[0m\n\u001b[0;32m      5\u001b[0m \u001b[38;5;28;01mimport\u001b[39;00m \u001b[38;5;21;01mtorch\u001b[39;00m\u001b[38;5;21;01m.\u001b[39;00m\u001b[38;5;21;01mnn\u001b[39;00m \u001b[38;5;28;01mas\u001b[39;00m \u001b[38;5;21;01mnn\u001b[39;00m\n\u001b[0;32m      6\u001b[0m \u001b[38;5;28;01mfrom\u001b[39;00m \u001b[38;5;21;01mtorch\u001b[39;00m\u001b[38;5;21;01m.\u001b[39;00m\u001b[38;5;21;01mutils\u001b[39;00m\u001b[38;5;21;01m.\u001b[39;00m\u001b[38;5;21;01mdata\u001b[39;00m \u001b[38;5;28;01mimport\u001b[39;00m Dataset\n\u001b[1;32m----> 7\u001b[0m \u001b[38;5;28;01mfrom\u001b[39;00m \u001b[38;5;21;01mmnist\u001b[39;00m \u001b[38;5;28;01mimport\u001b[39;00m MnistDataset\n\u001b[0;32m      9\u001b[0m get_ipython()\u001b[38;5;241m.\u001b[39mrun_line_magic(\u001b[38;5;124m'\u001b[39m\u001b[38;5;124mmatplotlib\u001b[39m\u001b[38;5;124m'\u001b[39m, \u001b[38;5;124m'\u001b[39m\u001b[38;5;124minline\u001b[39m\u001b[38;5;124m'\u001b[39m)\n",
      "\u001b[1;31mModuleNotFoundError\u001b[0m: No module named 'mnist'"
     ]
    }
   ],
   "source": [
    "import pandas as pd\n",
    "import matplotlib.pyplot as plt\n",
    "\n",
    "import torch\n",
    "import torch.nn as nn\n",
    "from torch.utils.data import Dataset\n",
    "from mnist import MnistDataset\n",
    "\n",
    "%matplotlib inline"
   ]
  },
  {
   "cell_type": "markdown",
   "id": "c4373ae2-bfc6-41ac-9286-1c3485514f08",
   "metadata": {},
   "source": [
    "### Warnungen ausschalten"
   ]
  },
  {
   "cell_type": "code",
   "execution_count": 2,
   "id": "876d73d1-3c33-4f68-963a-e5b31ae12a3c",
   "metadata": {
    "tags": []
   },
   "outputs": [],
   "source": [
    "import warnings\n",
    "warnings.filterwarnings(\"ignore\")"
   ]
  },
  {
   "cell_type": "markdown",
   "id": "2bae5b3c-e279-4fcb-9740-a7bc1eacf48d",
   "metadata": {},
   "source": [
    "### GPU-Check"
   ]
  },
  {
   "cell_type": "code",
   "execution_count": null,
   "id": "0de72a39-17d0-4fd4-97cb-3a92bb59736b",
   "metadata": {
    "tags": []
   },
   "outputs": [],
   "source": [
    "device =  \"cuda\" if torch.cuda.is_available else \"cpu\""
   ]
  },
  {
   "cell_type": "markdown",
   "id": "4897c68a-17c9-4abb-9bd8-109a650a9570",
   "metadata": {},
   "source": [
    "### MNIST-Datensatz einlesen"
   ]
  },
  {
   "cell_type": "code",
   "execution_count": 5,
   "id": "bd7f5d8f-e0bd-45db-bcf4-8b4c2efab568",
   "metadata": {},
   "outputs": [],
   "source": [
    "from pathlib import Path\n",
    "from sklearn.datasets import fetch_openml\n",
    "\n",
    "def load_mnist():\n",
    "    if not Path('mnist_data.csv').exists():\n",
    "        mnist = fetch_openml('mnist_784', version=1, parser=\"auto\")\n",
    "        mnist.data.to_csv(\"mnist_data.csv\",index=False)\n",
    "        mnist.target.to_csv(\"mnist_target.csv\",index=False)\n",
    "        return mnist.data, mnist.target.astype(int)\n",
    "    else:\n",
    "        return pd.read_csv('mnist_data.csv'), pd.read_csv('mnist_target.csv').astype(int)\n",
    "\n",
    "X, y = load_mnist()        "
   ]
  },
  {
   "cell_type": "markdown",
   "id": "d0b24c29-9cec-4c6a-b5b2-4c248e418d2c",
   "metadata": {},
   "source": [
    "### Die Klasse Classifier"
   ]
  },
  {
   "cell_type": "code",
   "execution_count": 8,
   "id": "c6819ac7-8f22-469f-8228-d2fd803a8a4d",
   "metadata": {},
   "outputs": [],
   "source": [
    "class Classifier(nn.Module):    \n",
    "   \n",
    "    def __init__(self):\n",
    "        super().__init__()\n",
    "        \n",
    "        self.model = nn.Sequential(\n",
    "            nn.Linear(784,200),\n",
    "            nn.Sigmoid(),\n",
    "            nn.Linear(200,10),\n",
    "            nn.Sigmoid()     \n",
    "        )\n",
    "        self.loss_function = nn.MSELoss()\n",
    "        self.optimiser = torch.optim.SGD(self.parameters(),lr=0.01)\n",
    "        \n",
    "        self.counter = 0\n",
    "        self.progress = []\n",
    "        \n",
    "    def forward(self,inputs):\n",
    "        return self.model(inputs)\n",
    "    \n",
    "    def train(self,inputs,targets):\n",
    "        outputs = self.forward(inputs)\n",
    "        loss = self.loss_function(outputs,targets)\n",
    "        self.optimiser.zero_grad()\n",
    "        loss.backward()\n",
    "        self.optimiser.step()\n",
    "        \n",
    "        self.counter += 1\n",
    "        if (self.counter % 10) == 0:\n",
    "            self.progress.append(loss.item())\n",
    "        \n",
    "        if (self.counter % 10000) == 0:\n",
    "            print(f'Counter = {self.counter}')\n",
    "        \n",
    "    def plot_progress(self):\n",
    "        df = pd.DataFrame(self.progress,columns = ['loss'])\n",
    "        df.plot(ylim=(0,1.0),figsize=(16,8),alpha=0.1,marker='.',grid=True, yticks=(0,0.25,0.5))\n",
    "        \n",
    "        "
   ]
  },
  {
   "cell_type": "markdown",
   "id": "c19f8346-9e5d-427a-8b9d-c5e3168224f3",
   "metadata": {},
   "source": [
    "#### Training des Netzes"
   ]
  },
  {
   "cell_type": "code",
   "execution_count": 9,
   "id": "dd293223-8af1-4374-8551-9079b1d7bb70",
   "metadata": {},
   "outputs": [
    {
     "ename": "NameError",
     "evalue": "name 'mnist_ds' is not defined",
     "output_type": "error",
     "traceback": [
      "\u001b[1;31m---------------------------------------------------------------------------\u001b[0m",
      "\u001b[1;31mNameError\u001b[0m                                 Traceback (most recent call last)",
      "Cell \u001b[1;32mIn[9], line 3\u001b[0m\n\u001b[0;32m      1\u001b[0m C \u001b[38;5;241m=\u001b[39m Classifier()\n\u001b[1;32m----> 3\u001b[0m \u001b[38;5;28;01mfor\u001b[39;00m label, image_data_tensor, target_tensor \u001b[38;5;129;01min\u001b[39;00m mnist_ds:\n\u001b[0;32m      4\u001b[0m     C\u001b[38;5;241m.\u001b[39mtrain(image_data_tensor,target_tensor)\n",
      "\u001b[1;31mNameError\u001b[0m: name 'mnist_ds' is not defined"
     ]
    }
   ],
   "source": [
    "C = Classifier()\n",
    "\n",
    "for label, image_data_tensor, target_tensor in mnist_ds:\n",
    "    C.train(image_data_tensor,target_tensor)\n",
    " "
   ]
  },
  {
   "cell_type": "markdown",
   "id": "cc284a2c-b8e8-4e3b-ab35-0b92fec7f180",
   "metadata": {},
   "source": [
    "#### Test des Netzes"
   ]
  },
  {
   "cell_type": "code",
   "execution_count": null,
   "id": "4018f73d-dba9-4a10-95b9-4508d9ebdfb6",
   "metadata": {},
   "outputs": [],
   "source": [
    "mnist_test_ds = MnistDataset('daten/mnist_test.csv')"
   ]
  },
  {
   "cell_type": "code",
   "execution_count": null,
   "id": "a6b2a368-1f19-4a17-8ec7-53a6fc6631e5",
   "metadata": {},
   "outputs": [],
   "source": [
    "record = 19\n",
    "#mnist_test_ds.plot_image(record)"
   ]
  },
  {
   "cell_type": "code",
   "execution_count": null,
   "id": "17dfecf1-9f5f-44eb-9b96-b7da8284ed6a",
   "metadata": {},
   "outputs": [],
   "source": [
    "image_data = mnist_test_ds[record][1]\n",
    "\n",
    "output = C.forward(image_data)\n",
    "\n",
    "pd.DataFrame(output.detach().numpy()).plot(kind='bar',legend='False',ylim=(0,1))"
   ]
  },
  {
   "cell_type": "code",
   "execution_count": null,
   "id": "e08efb00-685a-4257-8628-6c0f25f6e40f",
   "metadata": {},
   "outputs": [],
   "source": []
  }
 ],
 "metadata": {
  "kernelspec": {
   "display_name": "Python 3 (ipykernel)",
   "language": "python",
   "name": "python3"
  },
  "language_info": {
   "codemirror_mode": {
    "name": "ipython",
    "version": 3
   },
   "file_extension": ".py",
   "mimetype": "text/x-python",
   "name": "python",
   "nbconvert_exporter": "python",
   "pygments_lexer": "ipython3",
   "version": "3.12.9"
  }
 },
 "nbformat": 4,
 "nbformat_minor": 5
}
