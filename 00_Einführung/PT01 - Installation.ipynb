{
 "cells": [
  {
   "cell_type": "markdown",
   "id": "1e5ae5d7-72dc-49eb-81e9-c0bb3bd803aa",
   "metadata": {},
   "source": [
    "# Überprüfung der Installation"
   ]
  },
  {
   "cell_type": "markdown",
   "id": "c9a7ec6c-3d65-407b-86fa-b432e749a008",
   "metadata": {},
   "source": [
    "Überprüft die korrekte Installation von PyTorch für die GPU / CUDA.\n",
    "\n",
    "Meine Grafikkarte:\n",
    "NVIDIA GeForce GTX 1050 TI\n",
    "- Product Type: GeForce\n",
    "- Product Series: GeForce 10 Series\n",
    "- Product: GeForce 1050 Ti\n",
    "\n",
    "Die Karte ist nur bis CUDA 11.2 kompatibel\n",
    "\n",
    "Check CUDA version:\n",
    "nvcc --version\n",
    "\n",
    "### Zur Installation\n",
    "\n",
    "PyTorch:https://pytorch.org/get-started/locally/\n",
    "\n",
    "#CUDA: https://developer.nvidia.com/cuda-11-7-0-download-archive\n",
    "\n",
    "pip3 install torch torchvision torchaudio --index-url https://download.pytorch.org/whl/cu118"
   ]
  },
  {
   "cell_type": "code",
   "execution_count": 1,
   "id": "a1b00e25-9e13-4b49-bf03-14abaed15d9d",
   "metadata": {
    "ExecuteTime": {
     "end_time": "2024-03-09T09:36:39.010595Z",
     "start_time": "2024-03-09T09:36:35.930565Z"
    },
    "tags": []
   },
   "outputs": [],
   "source": [
    "import torch"
   ]
  },
  {
   "cell_type": "code",
   "execution_count": 2,
   "id": "8ce2625d-4427-41ee-a7d2-a717d5e91ac5",
   "metadata": {
    "ExecuteTime": {
     "end_time": "2024-03-09T09:36:39.074562Z",
     "start_time": "2024-03-09T09:36:39.013564Z"
    },
    "tags": []
   },
   "outputs": [
    {
     "name": "stdout",
     "output_type": "stream",
     "text": [
      "CUDA available: True\n",
      "CUDA devices count: 1\n",
      "CUDA current device: 0\n",
      "CUDA device 0: <torch.cuda.device object at 0x0000012237B3D5B0>\n",
      "CUDA device name: NVIDIA GeForce GTX 1050 Ti\n"
     ]
    }
   ],
   "source": [
    "print(f'CUDA available: {torch.cuda.is_available()}')\n",
    "print(f'CUDA devices count: {torch.cuda.device_count()}')\n",
    "print(f'CUDA current device: {torch.cuda.current_device()}')\n",
    "print(f'CUDA device 0: {torch.cuda.device(0)}')\n",
    "print(f'CUDA device name: {torch.cuda.get_device_name(0)}')"
   ]
  },
  {
   "cell_type": "code",
   "execution_count": 3,
   "id": "cc9a56c5-a1e0-4ace-9f52-bb4f7c96f033",
   "metadata": {
    "ExecuteTime": {
     "end_time": "2024-03-09T09:36:39.090568Z",
     "start_time": "2024-03-09T09:36:39.076563Z"
    },
    "tags": []
   },
   "outputs": [
    {
     "name": "stdout",
     "output_type": "stream",
     "text": [
      "GPU gefunden: NVIDIA GeForce GTX 1050 Ti\n"
     ]
    }
   ],
   "source": [
    "def check_gpu():\n",
    "    if(torch.cuda.device_count()==0):\n",
    "        print(\"Keine GPU gefunden\")\n",
    "    else:\n",
    "        print(f\"GPU gefunden: {torch.cuda.get_device_name(0)}\")\n",
    "check_gpu()   "
   ]
  },
  {
   "cell_type": "code",
   "execution_count": null,
   "id": "94fd2c57148885ca",
   "metadata": {
    "ExecuteTime": {
     "end_time": "2024-03-09T09:36:39.106568Z",
     "start_time": "2024-03-09T09:36:39.092564Z"
    },
    "collapsed": false,
    "jupyter": {
     "outputs_hidden": false
    }
   },
   "outputs": [],
   "source": [
    "from tqdm import tqdm \n",
    "\n",
    "X = range(50000000)\n",
    "\n",
    "sum = 0\n",
    "\n",
    "for num in tqdm(X):\n",
    "    sum = num + sum\n",
    "    \n",
    "print(\"Sum of numbers is : \", sum)"
   ]
  }
 ],
 "metadata": {
  "kernelspec": {
   "display_name": "Python 3 (ipykernel)",
   "language": "python",
   "name": "python3"
  },
  "language_info": {
   "codemirror_mode": {
    "name": "ipython",
    "version": 3
   },
   "file_extension": ".py",
   "mimetype": "text/x-python",
   "name": "python",
   "nbconvert_exporter": "python",
   "pygments_lexer": "ipython3",
   "version": "3.12.9"
  }
 },
 "nbformat": 4,
 "nbformat_minor": 5
}
