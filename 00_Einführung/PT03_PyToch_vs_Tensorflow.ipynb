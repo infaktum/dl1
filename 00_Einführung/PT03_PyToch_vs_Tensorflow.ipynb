{
 "cells": [
  {
   "cell_type": "markdown",
   "id": "8f0b5fb4-f46d-43a5-80b1-a1bcd43c76c5",
   "metadata": {},
   "source": [
    "# PyTorch und Tensorflow"
   ]
  },
  {
   "cell_type": "markdown",
   "id": "bca970aa-6330-4f1a-8957-790608c14073",
   "metadata": {},
   "source": [
    "TensorFlow und PyTorch sind zwei der beliebtesten Deep-Learning-Frameworks, die jedoch unterschiedliche Design-Philosophien und Architekturen haben. Hier sind die grundlegenden Unterschiede im Design:\n",
    "\n",
    "### Eager Execution vs. Static Graph\n",
    "PyTorch: Nutzt standardmäßig Eager Execution, was bedeutet, dass Operationen sofort ausgeführt werden, sobald sie aufgerufen werden. Das macht es intuitiver und einfacher für das Debugging.\n",
    "TensorFlow: Verwendet traditionell einen Computational Graph (Static Graph), bei dem zuerst ein Graph erstellt und anschließend ausgeführt wird. Ab TensorFlow 2.0 ist jedoch auch Eager Execution standardmäßig aktiviert.\n",
    "### Flexibilität und Benutzerfreundlichkeit\n",
    "PyTorch: Wird oft als flexibler empfunden, weil es sich eher wie eine reguläre Python-Bibliothek verhält und sich gut in andere Python-Tools integrieren lässt.\n",
    "TensorFlow: War ursprünglich komplexer und weniger intuitiv, aber mit TensorFlow 2.0 wurde es benutzerfreundlicher (z. B. durch Keras als High-Level-API).\n",
    "### Modell-Deployment\n",
    "PyTorch: Unterstützt das Deployment über TorchScript und ONNX, ist aber traditionell eher auf Forschung und Entwicklung ausgerichtet.\n",
    "TensorFlow: Bietet mit TensorFlow Serving, TensorFlow Lite und TensorFlow.js eine ausgereiftere Infrastruktur für das Deployment auf verschiedenen Plattformen.\n",
    "### Community und Ökosystem\n",
    "PyTorch: Stärker in der akademischen Forschung verbreitet, da es sich leichter experimentell anpassen lässt.\n",
    "TensorFlow: Wird häufiger in der Industrie eingesetzt, insbesondere für groß angelegte Anwendungen.\n",
    "### Performance und Skalierbarkeit\n",
    "PyTorch: Gut für kleinere bis mittlere Projekte, unterstützt aber auch verteiltes Training mit torch.distributed.\n",
    "TensorFlow: Bietet von Haus aus eine umfangreiche Unterstützung für verteiltes Training und Skalierung, was es für große Produktionssysteme attraktiv macht.\n",
    "\n",
    "### Zusammenfassung:\n",
    "\n",
    "PyTorch ist intuitiver, flexibler und besser für Forschung geeignet.\n",
    "\n",
    "TensorFlow ist skalierbarer, hat ein besser entwickeltes Ökosystem für Produktion und Deployment.\n",
    "Beide Frameworks haben sich in den letzten Jahren stark angenähert, sodass die Wahl oft von persönlichen Vorlieben und spezifischen Anforderungen abhängt. 🚀"
   ]
  },
  {
   "cell_type": "code",
   "execution_count": null,
   "id": "e8a1ad06-1ec2-449b-bdfc-b3352f20d095",
   "metadata": {},
   "outputs": [],
   "source": []
  }
 ],
 "metadata": {
  "kernelspec": {
   "display_name": "Python 3 (ipykernel)",
   "language": "python",
   "name": "python3"
  },
  "language_info": {
   "codemirror_mode": {
    "name": "ipython",
    "version": 3
   },
   "file_extension": ".py",
   "mimetype": "text/x-python",
   "name": "python",
   "nbconvert_exporter": "python",
   "pygments_lexer": "ipython3",
   "version": "3.12.9"
  }
 },
 "nbformat": 4,
 "nbformat_minor": 5
}
