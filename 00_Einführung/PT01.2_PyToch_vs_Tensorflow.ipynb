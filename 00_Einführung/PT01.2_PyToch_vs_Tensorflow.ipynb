{
 "cells": [
  {
   "cell_type": "markdown",
   "id": "8f0b5fb4-f46d-43a5-80b1-a1bcd43c76c5",
   "metadata": {},
   "source": [
    "# PyTorch und Tensorflow"
   ]
  },
  {
   "cell_type": "markdown",
   "id": "0606dd5d-7d4b-48e2-a3bf-d032eceb36e6",
   "metadata": {},
   "source": [
    "__TensorFlow__ und __PyTorch_ sind zwei der beliebtesten Deep-Learning-Frameworks, die jedoch unterschiedliche Design-Philosophien und Architekturen haben. Hier sind die grundlegenden Unterschiede im Design:"
   ]
  },
  {
   "cell_type": "markdown",
   "id": "5dabd1f1-13b8-45d8-86c1-fb5caf0eac96",
   "metadata": {},
   "source": [
    "### Eager Execution vs. Static Graph\n",
    "* __PyTorch__: Nutzt standardmäßig Eager Execution, was bedeutet, dass Operationen sofort ausgeführt werden, sobald sie aufgerufen werden. Das macht es intuitiver und einfacher für das Debugging.\n",
    "* __TensorFlow__: Verwendet traditionell einen Computational Graph (Static Graph), bei dem zuerst ein Graph erstellt und anschließend ausgeführt wird. Ab TensorFlow 2.0 ist jedoch auch Eager Execution standardmäßig aktiviert."
   ]
  },
  {
   "cell_type": "markdown",
   "id": "a76416a7-7563-49f0-b40a-ac01a70c969a",
   "metadata": {},
   "source": [
    "### Flexibilität und Benutzerfreundlichkeit\n",
    "* __PyTorch__: Wird oft als flexibler empfunden, weil es sich eher wie eine reguläre Python-Bibliothek verhält und sich gut in andere Python-Tools integrieren lässt.\n",
    "* __TensorFlow__: War ursprünglich komplexer und weniger intuitiv, aber mit TensorFlow 2.0 wurde es benutzerfreundlicher (z. B. durch Keras als High-Level-API)."
   ]
  },
  {
   "cell_type": "markdown",
   "id": "e1178aeb-6663-4808-87d3-7b1a95b16ea3",
   "metadata": {},
   "source": [
    "### Modell-Deployment\n",
    "* __PyTorch__: Unterstützt das Deployment über TorchScript und ONNX, ist aber traditionell eher auf Forschung und Entwicklung ausgerichtet.\n",
    "* __TensorFlow__: Bietet mit TensorFlow Serving, TensorFlow Lite und TensorFlow.js eine ausgereiftere Infrastruktur für das Deployment auf verschiedenen Plattformen."
   ]
  },
  {
   "cell_type": "markdown",
   "id": "4eab47b7-00ae-4da7-be66-ed1385e54cb6",
   "metadata": {},
   "source": [
    "### Community und Ökosystem\n",
    "* __PyTorch__: Stärker in der akademischen Forschung verbreitet, da es sich leichter experimentell anpassen lässt.\n",
    "* __TensorFlow__: Wird häufiger in der Industrie eingesetzt, insbesondere für groß angelegte Anwendungen."
   ]
  },
  {
   "cell_type": "markdown",
   "id": "a00f061f-53c6-43db-b27c-94b2b37aab75",
   "metadata": {},
   "source": [
    "### Performance und Skalierbarkeit\n",
    "* __PyTorch__: Gut für kleinere bis mittlere Projekte, unterstützt aber auch verteiltes Training mit torch.distributed.\n",
    "* __TensorFlow__: Bietet von Haus aus eine umfangreiche Unterstützung für verteiltes Training und Skalierung, was es für große Produktionssysteme attraktiv macht."
   ]
  },
  {
   "cell_type": "markdown",
   "id": "72a91034-2a1c-45ec-8101-d3c49bf646db",
   "metadata": {},
   "source": [
    "### Zusammenfassung:\n",
    "\n",
    "* __PyTorch__ ist intuitiver, flexibler und besser für Forschung geeignet.\n",
    "* __TensorFlow__ ist skalierbarer, hat ein besser entwickeltes Ökosystem für Produktion und Deployment.\n",
    "\n",
    "\n",
    "Beide Frameworks haben sich in den letzten Jahren stark angenähert, sodass die Wahl oft von persönlichen Vorlieben und spezifischen Anforderungen abhängt."
   ]
  },
  {
   "cell_type": "code",
   "execution_count": null,
   "id": "e8a1ad06-1ec2-449b-bdfc-b3352f20d095",
   "metadata": {},
   "outputs": [],
   "source": []
  }
 ],
 "metadata": {
  "kernelspec": {
   "display_name": "Python 3 (ipykernel)",
   "language": "python",
   "name": "python3"
  },
  "language_info": {
   "codemirror_mode": {
    "name": "ipython",
    "version": 3
   },
   "file_extension": ".py",
   "mimetype": "text/x-python",
   "name": "python",
   "nbconvert_exporter": "python",
   "pygments_lexer": "ipython3",
   "version": "3.12.3"
  }
 },
 "nbformat": 4,
 "nbformat_minor": 5
}
