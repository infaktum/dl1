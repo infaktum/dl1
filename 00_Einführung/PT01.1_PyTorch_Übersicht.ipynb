{
 "cells": [
  {
   "cell_type": "markdown",
   "id": "65666c15-0c0e-4fea-9499-cc60e6b24c47",
   "metadata": {},
   "source": [
    "# Übersicht über PyTorch"
   ]
  },
  {
   "cell_type": "markdown",
   "id": "5e444799-c54b-404a-b19c-d328c8d8ff6a",
   "metadata": {},
   "source": [
    "### Die Pakete"
   ]
  },
  {
   "cell_type": "markdown",
   "id": "658fe872-0de8-4727-a5f6-6da41e126f5c",
   "metadata": {},
   "source": [
    "* __torch__: Eine Bibliothek zum Rechnen mit Tensoren, ähnlich _NumPy_, aber mit GPU-Support\n",
    "* __torch.autograd__:\tA tape-based automatic differentiation library that supports all differentiable Tensor operations in torch\n",
    "* __torch.jit__: A compilation stack (TorchScript) to create serializable and optimizable models from PyTorch code\n",
    "* __torch.nn__: A neural networks library deeply integrated with autograd designed for maximum flexibility\n",
    "* __torch.multiprocessing__:\tPython multiprocessing, but with magical memory sharing of torch Tensors across processes. Useful for data loading and Hogwild training\n",
    "* __torch.utils__:\tDataLoader and other utility functions for convenience"
   ]
  },
  {
   "cell_type": "code",
   "execution_count": null,
   "id": "e778fba1-f759-4b7c-b415-2ce8328f1f7b",
   "metadata": {},
   "outputs": [],
   "source": []
  }
 ],
 "metadata": {
  "kernelspec": {
   "display_name": "Python 3 (ipykernel)",
   "language": "python",
   "name": "python3"
  },
  "language_info": {
   "codemirror_mode": {
    "name": "ipython",
    "version": 3
   },
   "file_extension": ".py",
   "mimetype": "text/x-python",
   "name": "python",
   "nbconvert_exporter": "python",
   "pygments_lexer": "ipython3",
   "version": "3.12.3"
  }
 },
 "nbformat": 4,
 "nbformat_minor": 5
}
