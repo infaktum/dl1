{
 "cells": [
  {
   "cell_type": "markdown",
   "id": "787b96a5-2223-46be-bb51-4f7e0e81f099",
   "metadata": {},
   "source": [
    "# Tensoren"
   ]
  },
  {
   "cell_type": "markdown",
   "id": "d9de3dfd-1dd0-45f2-8e99-426c2896fd15",
   "metadata": {
    "collapsed": false,
    "jupyter": {
     "outputs_hidden": false
    }
   },
   "source": [
    "__Tensoren__ sind die zentrale Datenstruktur in `PyToch`. Sie stehen für die im Deep Learning verwendeten __Vektoren__, __Matrizen__ und anderer Objekte als Zusammenfassung reeller Daten in eine Struktur beliebiger Dimension (_Stufen_), die durch zahlreiche mathematische Operationen manipuliert werden können.\n",
    "\n",
    "Auch die Python-Bibliothek `NumPy` arbeitet mit Tensoren; dort werden sie allerdings `ndarray`(_n-dimensionales Array_) genannt. Wer `NumPy` und seine `ndarrays` kennt, wird die meisten Eigenschaften von  `PyTorchs` Tensoren wiedererkennen."
   ]
  },
  {
   "cell_type": "markdown",
   "id": "052cd31d-a449-4ee1-8417-65c0ac1db2e6",
   "metadata": {},
   "source": [
    "### Unterschiede zu `NumPy`"
   ]
  },
  {
   "cell_type": "markdown",
   "id": "5acc870d-6625-4763-9ada-2f2e974f3120",
   "metadata": {
    "collapsed": false,
    "jupyter": {
     "outputs_hidden": false
    }
   },
   "source": [
    "Die Tensoren in `PyTorch` haben zwei wesentliche zusätzliche Eigenschaften gegenüber den ndarrays in `NumPy`:\n",
    "\n",
    "* __Unterstützung von GPUs__: Tensoren können auf GPUs \"verschoben\" werden, so dass mathematische Operationen darauf parallelisiert und beschleunigt werden können. Die fehlende Unterstützung für GPUs ist die größte Schwäche von `NumPy`.\n",
    "* __Automatisierte Gradientenberechnung__: Tensoren in `PyTorch` ermöglichen die Automatisierung der Gradientenbildung bei Transformationen. Da der Gradientenabstieg die Basis beim Lernprozess neuronaler Netzwerke bildet, ist dies eine große Hilfe beim Deep Leraning, selbst wenn keine GPU zur Verfügung steht.\n"
   ]
  },
  {
   "cell_type": "markdown",
   "id": "b79b0826-6f8f-4769-a628-cd0c7d1af635",
   "metadata": {},
   "source": [
    "\n",
    "<div style=\"background-color: #54c7ec; color: #fff; font-weight: 700; padding-left: 10px; padding-top: 5px; padding-bottom: 5px\"><strong>Anmerkung</strong></div>\n",
    "\n",
    "<div style = \"background-color: #eeeeee;padding:10px\">\n",
    "In der Physik sind Tensoren ebenfalls wichtige Hilfsmittel, unterscheiden sich allerdings in ihrer Bedeutung erheblich von Tensoren in der KI.\n",
    "</div>\n",
    "\n"
   ]
  },
  {
   "cell_type": "markdown",
   "id": "870eee9e-8aae-431f-826c-eb03bb907c46",
   "metadata": {
    "collapsed": false,
    "jupyter": {
     "outputs_hidden": false
    }
   },
   "source": [
    "## Erzeugung von Tensoren"
   ]
  },
  {
   "cell_type": "markdown",
   "id": "42206b7a-fabe-4706-979d-c0066a3c213f",
   "metadata": {
    "collapsed": false,
    "jupyter": {
     "outputs_hidden": false
    }
   },
   "source": [
    "### Erzeugung aus Python-Lsten"
   ]
  },
  {
   "cell_type": "markdown",
   "id": "7e47d7d9-4b39-41af-90e5-a5ae1a300150",
   "metadata": {
    "collapsed": false,
    "jupyter": {
     "outputs_hidden": false
    }
   },
   "source": [
    "Wie bei `NumPy` können Tensoren einfach durch die Übergabe eine mehrdimensionalen Python-Liste erzeugt werden:"
   ]
  },
  {
   "cell_type": "code",
   "execution_count": 2,
   "id": "d9749390-45d6-4d3c-af64-7238563c37a1",
   "metadata": {
    "ExecuteTime": {
     "end_time": "2024-03-09T16:00:51.267084Z",
     "start_time": "2024-03-09T16:00:47.582087Z"
    }
   },
   "outputs": [],
   "source": [
    "import torch"
   ]
  },
  {
   "cell_type": "code",
   "execution_count": 18,
   "id": "55dafd73-d3fc-485e-b82e-927929fcd929",
   "metadata": {
    "ExecuteTime": {
     "end_time": "2024-03-09T16:00:54.098367Z",
     "start_time": "2024-03-09T16:00:54.077343Z"
    }
   },
   "outputs": [
    {
     "name": "stdout",
     "output_type": "stream",
     "text": [
      "Sakalar: 1\n",
      "Vektor: tensor([1, 2, 3])\n",
      "Matrix: tensor([[1, 2, 3],\n",
      "        [4, 5, 6]])\n"
     ]
    }
   ],
   "source": [
    "skalar = torch.tensor(1)\n",
    "vektor = torch.tensor([1,2,3])\n",
    "matrix = torch.tensor([[1,2,3],[4,5,6]])\n",
    "\n",
    "print(f'Sakalar: {skalar}\\nVektor: {vektor}\\nMatrix: {matrix}')\n"
   ]
  },
  {
   "cell_type": "markdown",
   "id": "ffb9066a-8ad3-4f49-beb2-2ab24d7af497",
   "metadata": {},
   "source": [
    "### Erzeugung aus `NumPy`-Arrays"
   ]
  },
  {
   "cell_type": "markdown",
   "id": "aa78d9bd-a000-423d-b880-1a06af33e09b",
   "metadata": {},
   "source": [
    "Die Konvertierung von `Numpy`-Arrays in `PyTorch`-Tensoren und zurück ist ebenfalls sehr einfach:"
   ]
  },
  {
   "cell_type": "code",
   "execution_count": 3,
   "id": "a916322c-aba4-45d8-bbec-f5f74ed30f85",
   "metadata": {},
   "outputs": [
    {
     "name": "stdout",
     "output_type": "stream",
     "text": [
      "Tensor: tensor([1, 2])\n",
      "ndarray: [1 2]\n"
     ]
    }
   ],
   "source": [
    "import numpy as np\n",
    "\n",
    "array = np.arange(1,3)\n",
    "tensor = torch.tensor(array)\n",
    "t_array = tensor.numpy()\n",
    "\n",
    "print(f'Tensor: {tensor}\\nndarray: {t_array}')"
   ]
  },
  {
   "cell_type": "markdown",
   "id": "77d9e760-54a9-4cac-bed1-323cfc39ea92",
   "metadata": {},
   "source": [
    "### Datentyp"
   ]
  },
  {
   "cell_type": "markdown",
   "id": "dfe6cf69-2bfa-4263-b4f8-019562c8bc6f",
   "metadata": {},
   "source": [
    "Der Datentyp des Tensors kann explizit gesetzt werden. Dabei werden die definierten Datentypen aus dem Paket `torch` verwendet (und ggf. dahin konvertiert):"
   ]
  },
  {
   "cell_type": "code",
   "execution_count": 29,
   "id": "9699bacf-acbd-4dc8-a989-ff799fc4ac3b",
   "metadata": {},
   "outputs": [
    {
     "name": "stdout",
     "output_type": "stream",
     "text": [
      "Tensor: tensor([1., 2., 3.], dtype=torch.float64), Datentyp: torch.float64\n"
     ]
    }
   ],
   "source": [
    "tensor = torch.tensor([1,2,3], dtype=float)\n",
    "print(f'Tensor: {tensor}, Datentyp: {tensor.dtype}')"
   ]
  },
  {
   "cell_type": "markdown",
   "id": "115cceb8-87a2-4f2e-a5d5-39a9434bd71c",
   "metadata": {},
   "source": [
    "### Routinen zur Erzeugung von Tensoren"
   ]
  },
  {
   "cell_type": "markdown",
   "id": "2e2ecc7e-5fe3-4ac7-91e1-f38587e73678",
   "metadata": {},
   "source": [
    "Darüber hinaus existieren in `PyTorch` viele weitere Routinen zur Erzeugung von Tensoren. Einige sind aus `NumPy`bekannt: "
   ]
  },
  {
   "cell_type": "code",
   "execution_count": 48,
   "id": "db099d29-bf1f-479b-93e9-8b4fa102dcc3",
   "metadata": {},
   "outputs": [
    {
     "data": {
      "text/plain": [
       "(tensor([[0., 0.],\n",
       "         [0., 0.]]),\n",
       " tensor([[1., 1.],\n",
       "         [1., 1.]]),\n",
       " tensor([[1., 0.],\n",
       "         [0., 1.]]),\n",
       " tensor([[ 0.5331,  0.2098],\n",
       "         [ 0.8360, -1.5216]]),\n",
       " tensor([[1.0000e+00, 1.0000e+00],\n",
       "         [0.0000e+00, 1.1914e-05]]))"
      ]
     },
     "execution_count": 48,
     "metadata": {},
     "output_type": "execute_result"
    }
   ],
   "source": [
    "t0 = torch.zeros(2,2)\n",
    "t1 = torch.ones(2,2)\n",
    "t_id = torch.eye(2,2)\n",
    "\n",
    "m1 = torch.empty(2,2) \n",
    "\n",
    "t0, t1, t_id, m1"
   ]
  },
  {
   "cell_type": "markdown",
   "id": "0f0e727a-49db-4df3-8aff-a958d9a7c23c",
   "metadata": {},
   "source": [
    "Zufällig erzeugte Tensoren:"
   ]
  },
  {
   "cell_type": "code",
   "execution_count": 8,
   "id": "1dea0f52-9e24-45e4-904e-8f2c66fdc9de",
   "metadata": {},
   "outputs": [
    {
     "data": {
      "text/plain": [
       "(tensor([0.9305, 0.9099, 0.8776, 0.3480]),\n",
       " tensor([0.2144, 0.7572, 0.3071, 0.4491]),\n",
       " tensor([5, 7, 4, 4]))"
      ]
     },
     "execution_count": 8,
     "metadata": {},
     "output_type": "execute_result"
    }
   ],
   "source": [
    "t_rand = torch.rand(4)\n",
    "t_rand_normal = torch.randn(4)\n",
    "t_rand_int = torch.randint(3,8,(4,))\n",
    "\n",
    "t_rand, t_rand_normal, t_rand_int"
   ]
  },
  {
   "cell_type": "markdown",
   "id": "6eb85ba3-430a-4429-ac22-c9b8fc44f593",
   "metadata": {},
   "source": [
    "### Tensor-Arithmetik"
   ]
  },
  {
   "cell_type": "markdown",
   "id": "c13eb6b3-3db8-4d24-a1b2-e5faab9c2b54",
   "metadata": {
    "collapsed": false,
    "jupyter": {
     "outputs_hidden": false
    }
   },
   "source": [
    "`PyTorch` unterstützt wie `NumPy` die Arithmetik von Vektoren und Matrizen:\n",
    "\n",
    "* Addition von Vektoren\n",
    "* Multiplikation von Skalaren mit Vektoren und Matrizen\n",
    "* Multiplikation von Matrizen mit Vektoren und anderen Matrizen\n",
    "* Skalarprodukte von Vektoren\n",
    "* Transponieren von Tensoren"
   ]
  },
  {
   "cell_type": "code",
   "execution_count": 39,
   "id": "80d2daba-cd91-4e2f-a95d-926bf559a12a",
   "metadata": {
    "ExecuteTime": {
     "end_time": "2024-03-09T16:00:56.279343Z",
     "start_time": "2024-03-09T16:00:56.246348Z"
    }
   },
   "outputs": [],
   "source": [
    "v1 = torch.tensor([1,2,3])\n",
    "v2 = torch.tensor([4,5,6])\n",
    "\n",
    "m1 = torch.tensor([[1,2,3],[4,5,6]])\n",
    "m2 = torch.tensor([[1,2,3],[4,5,6]])"
   ]
  },
  {
   "cell_type": "code",
   "execution_count": 45,
   "id": "2c0ff789-a285-433f-ab6e-3bdb1fcae144",
   "metadata": {
    "ExecuteTime": {
     "end_time": "2024-03-09T16:00:56.279343Z",
     "start_time": "2024-03-09T16:00:56.246348Z"
    }
   },
   "outputs": [
    {
     "data": {
      "text/plain": [
       "(tensor([5, 7, 9]), tensor([3, 6, 9]), tensor(32))"
      ]
     },
     "execution_count": 45,
     "metadata": {},
     "output_type": "execute_result"
    }
   ],
   "source": [
    "v1 + v2, 3 * v1, v1.T @ v2"
   ]
  },
  {
   "cell_type": "code",
   "execution_count": 43,
   "id": "6e4bf71a-8e68-4f9a-bf11-9da4abb67049",
   "metadata": {},
   "outputs": [
    {
     "data": {
      "text/plain": [
       "tensor([[14, 32],\n",
       "        [32, 77]])"
      ]
     },
     "execution_count": 43,
     "metadata": {},
     "output_type": "execute_result"
    }
   ],
   "source": [
    "m1 @ v1\n",
    "m1 @ m2.T"
   ]
  },
  {
   "cell_type": "code",
   "execution_count": null,
   "id": "ce979aa1-ca9a-4fac-b93e-a7cd7715b69d",
   "metadata": {},
   "outputs": [],
   "source": []
  }
 ],
 "metadata": {
  "kernelspec": {
   "display_name": "Python 3 (ipykernel)",
   "language": "python",
   "name": "python3"
  },
  "language_info": {
   "codemirror_mode": {
    "name": "ipython",
    "version": 3
   },
   "file_extension": ".py",
   "mimetype": "text/x-python",
   "name": "python",
   "nbconvert_exporter": "python",
   "pygments_lexer": "ipython3",
   "version": "3.12.9"
  }
 },
 "nbformat": 4,
 "nbformat_minor": 5
}
