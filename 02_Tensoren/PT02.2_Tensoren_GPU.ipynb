{
 "cells": [
  {
   "cell_type": "markdown",
   "id": "787b96a5-2223-46be-bb51-4f7e0e81f099",
   "metadata": {},
   "source": [
    "# Tensoren in der GPU"
   ]
  },
  {
   "cell_type": "markdown",
   "id": "17a7d402875af7be",
   "metadata": {
    "collapsed": false,
    "jupyter": {
     "outputs_hidden": false
    }
   },
   "source": [
    "## Abfrage der GPU"
   ]
  },
  {
   "cell_type": "markdown",
   "id": "1e4f5d76-0643-49ce-be7d-b9b0a15d430a",
   "metadata": {},
   "source": [
    "Mit Hilfe des `cuda`-Moduls von `PyTorch` kann eine vorhandene GPU erkannt und abgefragt werden:"
   ]
  },
  {
   "cell_type": "code",
   "execution_count": 1,
   "id": "e0cb3daf-4af9-45f7-9eeb-c364f67fb1b7",
   "metadata": {
    "ExecuteTime": {
     "end_time": "2024-03-09T16:00:51.267084Z",
     "start_time": "2024-03-09T16:00:47.582087Z"
    }
   },
   "outputs": [],
   "source": [
    "import torch"
   ]
  },
  {
   "cell_type": "code",
   "execution_count": 2,
   "id": "e0826320-623c-494d-82fd-993bcdffa6d6",
   "metadata": {},
   "outputs": [],
   "source": [
    "def check_gpu(device = None):\n",
    "    if torch.cuda.device_count() == 0:\n",
    "        print(\"Keine GPU gefunden, verwende CPU\")\n",
    "        return 'cpu'\n",
    "    else:\n",
    "        print(f\"GPU gefunden: {torch.cuda.get_device_name(0)}\")\n",
    "        return 'cuda'\n",
    "\n",
    "        \n",
    "def gpu_info():\n",
    "    print(f'CUDA available: {torch.cuda.is_available()}')\n",
    "    print(f'CUDA devices count: {torch.cuda.device_count()}')\n",
    "    print(f'CUDA current device: {torch.cuda.current_device()}')\n",
    "    print(f'CUDA device 0: {torch.cuda.device(0)}')\n",
    "    print(f'CUDA device name: {torch.cuda.get_device_name(0)}')"
   ]
  },
  {
   "cell_type": "code",
   "execution_count": 3,
   "id": "185d345e-2bcc-4a97-becb-8bb4bf1bf911",
   "metadata": {},
   "outputs": [
    {
     "name": "stdout",
     "output_type": "stream",
     "text": [
      "GPU gefunden: NVIDIA GeForce GTX 1050 Ti\n",
      "CUDA available: True\n",
      "CUDA devices count: 1\n",
      "CUDA current device: 0\n",
      "CUDA device 0: <torch.cuda.device object at 0x0000018750E34740>\n",
      "CUDA device name: NVIDIA GeForce GTX 1050 Ti\n"
     ]
    }
   ],
   "source": [
    "check_gpu()\n",
    "gpu_info()"
   ]
  },
  {
   "cell_type": "markdown",
   "id": "454e631f-3426-4f1a-9e6f-89116e83c4cd",
   "metadata": {},
   "source": [
    "Mit der folgenden Anweisung wird eine Variable `device` definiert, die bei der Erzeugung von Tensoren verwendet werden kann:"
   ]
  },
  {
   "cell_type": "code",
   "execution_count": 4,
   "id": "74940025-6fc9-44d9-a3a0-00a48655c9ef",
   "metadata": {
    "ExecuteTime": {
     "end_time": "2024-03-09T16:00:51.267084Z",
     "start_time": "2024-03-09T16:00:47.582087Z"
    }
   },
   "outputs": [
    {
     "data": {
      "text/plain": [
       "'cuda'"
      ]
     },
     "execution_count": 4,
     "metadata": {},
     "output_type": "execute_result"
    }
   ],
   "source": [
    "device =  \"cuda\" if torch.cuda.is_available else \"cpu\"\n",
    "device"
   ]
  },
  {
   "cell_type": "markdown",
   "id": "418a23a7-b100-445a-a403-1e7ee5067675",
   "metadata": {},
   "source": [
    "### Erzeugung von Tensoren in der GPU"
   ]
  },
  {
   "cell_type": "code",
   "execution_count": 5,
   "id": "8bf769b5-d167-4308-80f4-106e5aa4618f",
   "metadata": {
    "ExecuteTime": {
     "end_time": "2024-03-09T16:01:05.024343Z",
     "start_time": "2024-03-09T16:01:03.213308Z"
    }
   },
   "outputs": [
    {
     "data": {
      "text/plain": [
       "(tensor([[1, 2, 3],\n",
       "         [4, 5, 6]], device='cuda:0'),\n",
       " tensor([[ 7,  8,  9],\n",
       "         [10, 11, 12]], device='cuda:0'))"
      ]
     },
     "execution_count": 5,
     "metadata": {},
     "output_type": "execute_result"
    }
   ],
   "source": [
    "x = torch.tensor([[1,2,3],[4,5,6]],device = device)\n",
    "y = torch.tensor([[7,8,9],[10,11,12]],device = device)\n",
    "x,y"
   ]
  },
  {
   "cell_type": "markdown",
   "id": "967a25c7-ab1f-4b68-a753-34bd0aec5059",
   "metadata": {},
   "source": [
    "Liegen die Ausgangs-Tensoren auf der GPU, so auch die Ergebnisse von Beechnungen:"
   ]
  },
  {
   "cell_type": "code",
   "execution_count": 6,
   "id": "5cedec3d-57c0-4376-9fd0-58104ccd9e4b",
   "metadata": {
    "ExecuteTime": {
     "end_time": "2024-03-09T16:01:05.024343Z",
     "start_time": "2024-03-09T16:01:03.213308Z"
    }
   },
   "outputs": [
    {
     "data": {
      "text/plain": [
       "tensor([[ 8, 10, 12],\n",
       "        [14, 16, 18]], device='cuda:0')"
      ]
     },
     "execution_count": 6,
     "metadata": {},
     "output_type": "execute_result"
    }
   ],
   "source": [
    "z = x + y\n",
    "z"
   ]
  },
  {
   "cell_type": "markdown",
   "id": "cc4defa6-5b96-409a-9655-ba6fdc7c9cfe",
   "metadata": {},
   "source": [
    "## Performance"
   ]
  },
  {
   "cell_type": "markdown",
   "id": "f45c2021-b985-4bf5-b365-ec0e4c290c0f",
   "metadata": {},
   "source": [
    "Auf der GPU werden alle Berechnungen erheblich (mehrere Größenordnungen) schneller durchgeführt:"
   ]
  },
  {
   "cell_type": "code",
   "execution_count": 2,
   "id": "0887ef2d-b484-49f4-8c3d-355c045ac38c",
   "metadata": {},
   "outputs": [],
   "source": [
    "N = 10"
   ]
  },
  {
   "cell_type": "code",
   "execution_count": 3,
   "id": "9b69a5f3-2853-487d-8c68-98d793723061",
   "metadata": {
    "ExecuteTime": {
     "end_time": "2024-03-09T16:01:12.736957Z",
     "start_time": "2024-03-09T16:01:12.723957Z"
    }
   },
   "outputs": [
    {
     "name": "stdout",
     "output_type": "stream",
     "text": [
      "The slowest run took 8.88 times longer than the fastest. This could mean that an intermediate result is being cached.\n",
      "67.5 μs ± 74.1 μs per loop (mean ± std. dev. of 7 runs, 1 loop each)\n"
     ]
    }
   ],
   "source": [
    "m1_gpu = torch.randn(N,N,dtype = float, device = 'cuda')\n",
    "m2_gpu = torch.randn(N,N,dtype = float, device = 'cuda') \n",
    "%timeit m1_gpu @ m2_gpu"
   ]
  },
  {
   "cell_type": "code",
   "execution_count": 4,
   "id": "37da02b7-e5b8-4d61-aa86-e08c3cd23e85",
   "metadata": {},
   "outputs": [
    {
     "name": "stdout",
     "output_type": "stream",
     "text": [
      "15.6 μs ± 2.68 μs per loop (mean ± std. dev. of 7 runs, 100,000 loops each)\n"
     ]
    }
   ],
   "source": [
    "m1_cpu = torch.randn(N,N,dtype = float, device = 'cpu')\n",
    "m2_cpu = torch.randn(N,N,dtype = float, device = 'cpu') \n",
    "%timeit m1_cpu @ m2_cpu"
   ]
  },
  {
   "cell_type": "code",
   "execution_count": null,
   "id": "33ba1bbc-c32a-4b20-8075-14e9eafe6525",
   "metadata": {},
   "outputs": [],
   "source": []
  }
 ],
 "metadata": {
  "kernelspec": {
   "display_name": "Python 3 (ipykernel)",
   "language": "python",
   "name": "python3"
  },
  "language_info": {
   "codemirror_mode": {
    "name": "ipython",
    "version": 3
   },
   "file_extension": ".py",
   "mimetype": "text/x-python",
   "name": "python",
   "nbconvert_exporter": "python",
   "pygments_lexer": "ipython3",
   "version": "3.12.9"
  }
 },
 "nbformat": 4,
 "nbformat_minor": 5
}
