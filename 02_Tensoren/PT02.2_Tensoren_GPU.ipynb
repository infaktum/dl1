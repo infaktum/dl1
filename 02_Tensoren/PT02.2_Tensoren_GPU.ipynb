{
 "cells": [
  {
   "cell_type": "markdown",
   "id": "787b96a5-2223-46be-bb51-4f7e0e81f099",
   "metadata": {},
   "source": [
    "# Tensoren in der GPU"
   ]
  },
  {
   "cell_type": "markdown",
   "id": "17a7d402875af7be",
   "metadata": {
    "collapsed": false,
    "jupyter": {
     "outputs_hidden": false
    }
   },
   "source": [
    "## Abfrage der GPU"
   ]
  },
  {
   "cell_type": "markdown",
   "id": "1e4f5d76-0643-49ce-be7d-b9b0a15d430a",
   "metadata": {},
   "source": [
    "Mit Hilfe des `cuda`-Moduls von `PyTorch` kann eine vorhandene GPU erkannt und abgefragt werden:"
   ]
  },
  {
   "cell_type": "code",
   "execution_count": 1,
   "id": "e0cb3daf-4af9-45f7-9eeb-c364f67fb1b7",
   "metadata": {
    "ExecuteTime": {
     "end_time": "2024-03-09T16:00:51.267084Z",
     "start_time": "2024-03-09T16:00:47.582087Z"
    }
   },
   "outputs": [],
   "source": [
    "import torch"
   ]
  },
  {
   "cell_type": "code",
   "execution_count": 2,
   "id": "e0826320-623c-494d-82fd-993bcdffa6d6",
   "metadata": {},
   "outputs": [],
   "source": [
    "def check_gpu(device = None):\n",
    "    if torch.cuda.device_count() == 0:\n",
    "        print(\"Keine GPU gefunden, verwende CPU\")\n",
    "        return 'cpu'\n",
    "    else:\n",
    "        print(f\"GPU gefunden: {torch.cuda.get_device_name(0)}\")\n",
    "        return 'cuda'\n",
    "\n",
    "        \n",
    "def gpu_info():\n",
    "    print(f'CUDA available: {torch.cuda.is_available()}')\n",
    "    print(f'CUDA devices count: {torch.cuda.device_count()}')\n",
    "    print(f'CUDA current device: {torch.cuda.current_device()}')\n",
    "    print(f'CUDA device 0: {torch.cuda.device(0)}')\n",
    "    print(f'CUDA device name: {torch.cuda.get_device_name(0)}')"
   ]
  },
  {
   "cell_type": "code",
   "execution_count": 3,
   "id": "185d345e-2bcc-4a97-becb-8bb4bf1bf911",
   "metadata": {},
   "outputs": [
    {
     "name": "stdout",
     "output_type": "stream",
     "text": [
      "GPU gefunden: NVIDIA GeForce GTX 1050 Ti\n",
      "CUDA available: True\n",
      "CUDA devices count: 1\n",
      "CUDA current device: 0\n",
      "CUDA device 0: <torch.cuda.device object at 0x00000198F84B8D10>\n",
      "CUDA device name: NVIDIA GeForce GTX 1050 Ti\n"
     ]
    }
   ],
   "source": [
    "check_gpu()\n",
    "gpu_info()"
   ]
  },
  {
   "cell_type": "markdown",
   "id": "454e631f-3426-4f1a-9e6f-89116e83c4cd",
   "metadata": {},
   "source": [
    "Mit der folgenden Anweisung wird eine Variable `device` definiert, die bei der Erzeugung von Tensoren verwendet werden kann:"
   ]
  },
  {
   "cell_type": "code",
   "execution_count": 4,
   "id": "74940025-6fc9-44d9-a3a0-00a48655c9ef",
   "metadata": {
    "ExecuteTime": {
     "end_time": "2024-03-09T16:00:51.267084Z",
     "start_time": "2024-03-09T16:00:47.582087Z"
    }
   },
   "outputs": [
    {
     "data": {
      "text/plain": [
       "'cuda'"
      ]
     },
     "execution_count": 4,
     "metadata": {},
     "output_type": "execute_result"
    }
   ],
   "source": [
    "device =  \"cuda\" if torch.cuda.is_available else \"cpu\"\n",
    "device"
   ]
  },
  {
   "cell_type": "markdown",
   "id": "418a23a7-b100-445a-a403-1e7ee5067675",
   "metadata": {},
   "source": [
    "### Erzeugung von Tensoren in der GPU"
   ]
  },
  {
   "cell_type": "code",
   "execution_count": 5,
   "id": "8bf769b5-d167-4308-80f4-106e5aa4618f",
   "metadata": {
    "ExecuteTime": {
     "end_time": "2024-03-09T16:01:05.024343Z",
     "start_time": "2024-03-09T16:01:03.213308Z"
    }
   },
   "outputs": [
    {
     "data": {
      "text/plain": [
       "(tensor([[1, 2, 3],\n",
       "         [4, 5, 6]], device='cuda:0'),\n",
       " tensor([[ 7,  8,  9],\n",
       "         [10, 11, 12]], device='cuda:0'))"
      ]
     },
     "execution_count": 5,
     "metadata": {},
     "output_type": "execute_result"
    }
   ],
   "source": [
    "x = torch.tensor([[1,2,3],[4,5,6]],device = device)\n",
    "y = torch.tensor([[7,8,9],[10,11,12]],device = device)\n",
    "x,y"
   ]
  },
  {
   "cell_type": "markdown",
   "id": "967a25c7-ab1f-4b68-a753-34bd0aec5059",
   "metadata": {},
   "source": [
    "Liegen die Ausgangs-Tensoren auf der GPU, so auch die Ergebnisse von Beechnungen:"
   ]
  },
  {
   "cell_type": "code",
   "execution_count": 6,
   "id": "5cedec3d-57c0-4376-9fd0-58104ccd9e4b",
   "metadata": {
    "ExecuteTime": {
     "end_time": "2024-03-09T16:01:05.024343Z",
     "start_time": "2024-03-09T16:01:03.213308Z"
    }
   },
   "outputs": [
    {
     "data": {
      "text/plain": [
       "tensor([[ 8, 10, 12],\n",
       "        [14, 16, 18]], device='cuda:0')"
      ]
     },
     "execution_count": 6,
     "metadata": {},
     "output_type": "execute_result"
    }
   ],
   "source": [
    "z = x + y\n",
    "z"
   ]
  },
  {
   "cell_type": "markdown",
   "id": "cc4defa6-5b96-409a-9655-ba6fdc7c9cfe",
   "metadata": {},
   "source": [
    "## Performance"
   ]
  },
  {
   "cell_type": "markdown",
   "id": "f45c2021-b985-4bf5-b365-ec0e4c290c0f",
   "metadata": {},
   "source": [
    "Auf der GPU werden alle Berechnungen erheblich schneller durchgeführt:"
   ]
  },
  {
   "cell_type": "code",
   "execution_count": 7,
   "id": "0887ef2d-b484-49f4-8c3d-355c045ac38c",
   "metadata": {},
   "outputs": [],
   "source": [
    "N = 20000\n"
   ]
  },
  {
   "cell_type": "code",
   "execution_count": 8,
   "id": "9b69a5f3-2853-487d-8c68-98d793723061",
   "metadata": {
    "ExecuteTime": {
     "end_time": "2024-03-09T16:01:12.736957Z",
     "start_time": "2024-03-09T16:01:12.723957Z"
    }
   },
   "outputs": [
    {
     "name": "stdout",
     "output_type": "stream",
     "text": [
      "146 ms ± 0 ns per loop (mean ± std. dev. of 1 run, 5 loops each)\n"
     ]
    }
   ],
   "source": [
    "m1_gpu = torch.rand(N,N,dtype = float, device = 'cuda')\n",
    "m2_gpu = torch.rand(N,N,dtype = float, device = 'cuda') \n",
    "%timeit -n 5 -r 1 m1_gpu @ m2_gpu"
   ]
  },
  {
   "cell_type": "code",
   "execution_count": 9,
   "id": "37da02b7-e5b8-4d61-aa86-e08c3cd23e85",
   "metadata": {},
   "outputs": [],
   "source": [
    "m1_cpu = torch.rand(N,N,dtype = float, device = 'cpu')\n",
    "m2_cpu = torch.rand(N,N,dtype = float, device = 'cpu') \n",
    "#%timeit -n 5 -r 1 m1_gpu @ m2_gpu"
   ]
  },
  {
   "cell_type": "code",
   "execution_count": 12,
   "id": "3409c761-31c0-4fc5-86fc-d97895a638b7",
   "metadata": {},
   "outputs": [
    {
     "name": "stdout",
     "output_type": "stream",
     "text": [
      "CPU Zeit: 653.4897 Sekunden\n",
      "GPU Zeit: 9.4593 Sekunden\n"
     ]
    }
   ],
   "source": [
    "import torch\n",
    "import time\n",
    "\n",
    "# Funktion zur Durchführung der Matrixmultiplikation und Zeitmessung\n",
    "def benchmark(device, size=10000):\n",
    "    # Erstelle zufällige Matrizen\n",
    "    a = torch.randn(size, size, device=device)\n",
    "    b = torch.randn(size, size, device=device)\n",
    "    \n",
    "    # Zeitmessung\n",
    "    start_time = time.time()\n",
    "    c = torch.mm(a, b)\n",
    "    torch.cuda.synchronize() # Synchronisiere, um genaue Zeit zu erhalten\n",
    "    end_time = time.time()\n",
    "    \n",
    "    return end_time - start_time\n",
    "\n",
    "# Benchmark auf CPU\n",
    "cpu_time = benchmark('cpu')\n",
    "print(f\"CPU Zeit: {cpu_time:.4f} Sekunden\")\n",
    "\n",
    "# Benchmark auf GPU, falls verfügbar\n",
    "if torch.cuda.is_available():\n",
    "    gpu_time = benchmark('cuda')\n",
    "    print(f\"GPU Zeit: {gpu_time:.4f} Sekunden\")\n",
    "else:\n",
    "    print(\"Keine GPU verfügbar.\")"
   ]
  },
  {
   "cell_type": "code",
   "execution_count": null,
   "id": "30479810-1251-445d-bed4-99599f7f6058",
   "metadata": {},
   "outputs": [],
   "source": []
  }
 ],
 "metadata": {
  "kernelspec": {
   "display_name": "Python 3 (ipykernel)",
   "language": "python",
   "name": "python3"
  },
  "language_info": {
   "codemirror_mode": {
    "name": "ipython",
    "version": 3
   },
   "file_extension": ".py",
   "mimetype": "text/x-python",
   "name": "python",
   "nbconvert_exporter": "python",
   "pygments_lexer": "ipython3",
   "version": "3.12.3"
  }
 },
 "nbformat": 4,
 "nbformat_minor": 5
}
