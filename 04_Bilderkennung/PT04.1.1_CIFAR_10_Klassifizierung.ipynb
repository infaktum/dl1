{
 "cells": [
  {
   "cell_type": "markdown",
   "id": "c3f29384-2d74-4beb-b292-d2825da9604a",
   "metadata": {},
   "source": [
    "# Klassifizierung Datensatz CIFAR-10"
   ]
  },
  {
   "cell_type": "markdown",
   "id": "7f2685d4-f49f-4bf4-8254-4bd209cb2da5",
   "metadata": {},
   "source": [
    "Der CIFAR-10-Datensatz betseht aus 60.000 Bildern im Format 32 x 32 Pixeln, aufgeteilt in 10 Klassen mit je 6.000 Bildern:\n",
    "\n",
    "Er besteht aus 50.000 Bildern für das Training und 10.000 Bildern für Tests."
   ]
  },
  {
   "cell_type": "code",
   "execution_count": 5,
   "id": "daa118ed-6a1c-4a2b-bafc-dbda7fc3ebaf",
   "metadata": {},
   "outputs": [],
   "source": [
    "import torch\n",
    "from torch.utils.data import Dataset, DataLoader\n",
    "from torchvision import datasets\n",
    "from torchvision.transforms import ToTensor"
   ]
  },
  {
   "cell_type": "code",
   "execution_count": 6,
   "id": "7b408a89-c6d5-4727-bcf0-270be45ebe55",
   "metadata": {},
   "outputs": [],
   "source": [
    "root = './data'\n",
    "\n",
    "training_data = datasets.CIFAR10(root=root,train=True,download=True,transform=ToTensor())\n",
    "test_data = datasets.CIFAR10(root=root,train=False,download=True,transform=ToTensor())\n",
    "\n",
    "batch_size = 64\n",
    "training_data_loader = DataLoader(training_data, batch_size=batch_size, shuffle=True)\n",
    "test_data_loader = DataLoader(test_data, batch_size=batch_size, shuffle=False)\n"
   ]
  },
  {
   "cell_type": "markdown",
   "id": "459faf21-4db2-4742-8940-cf4f83d689b4",
   "metadata": {},
   "source": [
    "## Das Neuronale Netz"
   ]
  },
  {
   "cell_type": "code",
   "execution_count": 7,
   "id": "a3942444-d657-46be-97e3-0c8581269357",
   "metadata": {},
   "outputs": [],
   "source": [
    "import torch.nn as nn\n",
    "import torch.nn.functional as F"
   ]
  },
  {
   "cell_type": "code",
   "execution_count": 22,
   "id": "2ccffc49-4911-4d00-957a-f7d8ada9bc5e",
   "metadata": {},
   "outputs": [],
   "source": [
    "class SimpleNet(nn.Module):\n",
    "\n",
    "    def __init__(self, n_features, n_classes):\n",
    "        super(SimpleNet, self).__init__()\n",
    "        self.n_features = n_features\n",
    "        self.fc1 = nn.Linear(n_features, 800)\n",
    "        self.fc2 = nn.Linear(800, 200)\n",
    "        self.fc3 = nn.Linear(200,n_classes)\n",
    "    \n",
    "    def forward(self, x):\n",
    "\n",
    "        x = x.view(-1, self.n_features)\n",
    "        #print(len(x))        \n",
    "        x = F.relu(self.fc1(x))\n",
    "        x = F.relu(self.fc2(x))\n",
    "        x = self.fc3(x)\n",
    "        return x\n",
    "\n"
   ]
  },
  {
   "cell_type": "markdown",
   "id": "dcd49db3-19f8-4f08-acee-da077d402640",
   "metadata": {},
   "source": [
    "Wir erzeugen das Netzwerk und verschieben es auf die GPU, falls vorhanden:"
   ]
  },
  {
   "cell_type": "code",
   "execution_count": 23,
   "id": "cf7c0b0c-70d2-4536-aa13-3f3dfcdc8479",
   "metadata": {},
   "outputs": [
    {
     "data": {
      "text/plain": [
       "SimpleNet(\n",
       "  (fc1): Linear(in_features=3072, out_features=800, bias=True)\n",
       "  (fc2): Linear(in_features=800, out_features=200, bias=True)\n",
       "  (fc3): Linear(in_features=200, out_features=10, bias=True)\n",
       ")"
      ]
     },
     "execution_count": 23,
     "metadata": {},
     "output_type": "execute_result"
    }
   ],
   "source": [
    "simplenet = SimpleNet(3 * 32 * 32, 10)    \n",
    "\n",
    "device = 'cuda' if torch.cuda.is_available() else 'cpu'\n",
    "simplenet.to(device)"
   ]
  },
  {
   "cell_type": "code",
   "execution_count": 24,
   "id": "68cc3d6d-6a17-4a5c-9326-48b6cb021326",
   "metadata": {},
   "outputs": [],
   "source": [
    "import torch.optim as optim\n",
    "\n",
    "optimizer = optim.Adam(simplenet.parameters(), lr=0.001)"
   ]
  },
  {
   "cell_type": "code",
   "execution_count": 25,
   "id": "d9b9b2bd-1d74-45a2-8594-b451f84dcfc8",
   "metadata": {},
   "outputs": [],
   "source": [
    "def train(model, optimizer, loss_fn, train_loader, val_loader, epochs=20, device=\"cpu\"):\n",
    "    for epoch in range(1, epochs+1):\n",
    "        training_loss = 0.0\n",
    "        valid_loss = 0.0\n",
    "        model.train()\n",
    "        for batch in train_loader:\n",
    "            optimizer.zero_grad()\n",
    "            inputs, targets = batch\n",
    "            #print(len(inputs), len(targets))\n",
    "            inputs = inputs.to(device)\n",
    "            targets = targets.to(device)\n",
    "            output = model(inputs)\n",
    "            #print(len(output), len(targets))\n",
    "            loss = loss_fn(output, targets)\n",
    "            loss.backward()\n",
    "            optimizer.step()\n",
    "            training_loss += loss.data.item() * inputs.size(0)\n",
    "        training_loss /= len(train_loader.dataset)\n",
    "        \n",
    "        model.eval()\n",
    "        num_correct = 0 \n",
    "        num_examples = 0\n",
    "        for batch in val_loader:\n",
    "            inputs, targets = batch\n",
    "            inputs = inputs.to(device)\n",
    "            output = model(inputs)\n",
    "            targets = targets.to(device)\n",
    "            loss = loss_fn(output,targets) \n",
    "            valid_loss += loss.data.item() * inputs.size(0)\n",
    "            correct = torch.eq(torch.max(F.softmax(output, dim=1), dim=1)[1], targets)\n",
    "            num_correct += torch.sum(correct).item()\n",
    "            num_examples += correct.shape[0]\n",
    "        valid_loss /= len(val_loader.dataset)\n",
    "\n",
    "        print('Epoch: {}, Training Loss: {:.2f}, Validation Loss: {:.2f}, accuracy = {:.2%}'.format(epoch, training_loss,\n",
    "        valid_loss, num_correct / num_examples))"
   ]
  },
  {
   "cell_type": "code",
   "execution_count": 27,
   "id": "3b9a0090-812f-4219-9df4-fc638c1c83a5",
   "metadata": {},
   "outputs": [],
   "source": [
    "#train(simplenet, optimizer,nn.CrossEntropyLoss(), training_data_loader,test_data_loader, epochs=10, device=device)\n",
    "#torch.save(simplenet, \"simplenet\") \n",
    "simplenet = torch.load(\"simplenet_49\",weights_only=False)"
   ]
  },
  {
   "cell_type": "code",
   "execution_count": 37,
   "id": "e626783f-daa1-4a5a-b18a-5f442d225e8d",
   "metadata": {},
   "outputs": [
    {
     "name": "stdout",
     "output_type": "stream",
     "text": [
      "0: frog 6 - 6 frog\n",
      "1: automobile 1 - 9 truck\n",
      "2: truck 9 - 9 truck\n",
      "3: deer 4 - 4 deer\n",
      "4: ship 8 - 1 automobile\n",
      "5: truck 9 - 1 automobile\n",
      "6: bird 2 - 2 bird\n",
      "7: horse 7 - 7 horse\n",
      "8: ship 8 - 8 ship\n",
      "9: truck 9 - 3 cat\n"
     ]
    }
   ],
   "source": [
    "labels = training_data.classes\n",
    "simplenet.to(\"cpu\")\n",
    "\n",
    "for n in range(10):\n",
    "    image, label = training_data[n]\n",
    "    simplenet.eval()\n",
    "    prediction = F.softmax(simplenet(image), dim=1)\n",
    "    prediction = prediction.argmax()\n",
    "    \n",
    "    print(f'{n}: {labels[prediction]} {prediction} - {training_data.targets[n]} {labels[training_data.targets[n]]}')     "
   ]
  },
  {
   "cell_type": "code",
   "execution_count": null,
   "id": "1c21fcf1-5815-4898-b8ff-b978411e92a7",
   "metadata": {},
   "outputs": [],
   "source": []
  }
 ],
 "metadata": {
  "kernelspec": {
   "display_name": "Python 3 (ipykernel)",
   "language": "python",
   "name": "python3"
  },
  "language_info": {
   "codemirror_mode": {
    "name": "ipython",
    "version": 3
   },
   "file_extension": ".py",
   "mimetype": "text/x-python",
   "name": "python",
   "nbconvert_exporter": "python",
   "pygments_lexer": "ipython3",
   "version": "3.12.9"
  }
 },
 "nbformat": 4,
 "nbformat_minor": 5
}
