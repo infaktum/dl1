{
 "cells": [
  {
   "cell_type": "markdown",
   "id": "daf556b7-5649-4559-8614-1a73686d0b29",
   "metadata": {},
   "source": [
    "# Convolutional Neural Networks"
   ]
  },
  {
   "cell_type": "markdown",
   "id": "0853aa73-2733-4d4b-82a0-ebf6460073f3",
   "metadata": {},
   "source": [
    "Ein __Convolutional Neural Network__ (CNN) ist eine spezielle Art von künstlichem neuronalen Netzwerk, das besonders gut für die Verarbeitung von Bildern und anderen strukturierten Daten geeignet ist. CNNs werden häufig in Bilderkennung, Objekterkennung und Computer Vision eingesetzt."
   ]
  },
  {
   "cell_type": "markdown",
   "id": "afbab29f-44df-43cf-b14e-1cd567cb1c3d",
   "metadata": {},
   "source": [
    "### Prinzipieller Aufbau"
   ]
  },
  {
   "cell_type": "markdown",
   "id": "cea5bac6-495c-4c27-bd2d-c3ff5408bc33",
   "metadata": {},
   "source": [
    "CNNs bestehen aus mehreren Schichten, die aufeinander aufbauen, um Muster und Merkmale aus Bildern zu erkennen. Die wichtigsten Schichten sind:\n",
    "\n",
    "#### Faltungsschicht (Convolutional Layer)\n",
    "\n",
    "* Diese Schicht verwendet __Filter__ (_Kernels_), um Merkmale aus einem Bild zu extrahieren. \n",
    "* Sie erkennt einfache Muster wie Kanten oder Farben in den ersten Schichten und komplexere Muster wie Formen oder Objekte in späteren Schichten.\n",
    "* Die Faltung hilft, räumliche Zusammenhänge in den Daten zu bewahren.\n",
    "\n",
    "#### Pooling-Schicht (Pooling Layer)\n",
    "\n",
    "* Reduziert die Größe der Daten, um die Berechnung effizienter zu machen.\n",
    "* Max-Pooling nimmt zum Beispiel das größte Pixel aus einer Region, um wichtige Informationen zu behalten und Rauschen zu entfernen.\n",
    "\n",
    "#### Aktivierungsfunktion (Activation Function, z. B. ReLU)\n",
    "\n",
    "* Führt eine nicht-lineare Transformation durch, sodass das Netzwerk auch komplexe Zusammenhänge erkennen kann.\n",
    "* ReLU (Rectified Linear Unit) setzt negative Werte auf 0, um das Modell schneller und robuster zu machen.\n",
    "\n",
    "#### Voll verbundene Schicht (Fully Connected Layer, FC Layer)\n",
    "* Nach mehreren Faltungs- und Pooling-Schichten wird das Bild in eine flache Feature-Vektor-Form umgewandelt.\n",
    "* Diese Schicht ist mit einem klassischen Neuronalen Netzwerk verbunden, das dann eine Entscheidung trifft (z. B. „Katze“ oder „Hund“).\n",
    "\n",
    "#### Softmax oder Sigmoid für Klassifikation\n",
    "\n",
    "Wenn das CNN zur Bildklassifikation dient, gibt es am Ende eine Softmax- oder Sigmoid-Funktion, die die Wahrscheinlichkeit für jede Kategorie berechnet."
   ]
  },
  {
   "cell_type": "markdown",
   "id": "fdb9c135-6e5e-4cce-bf70-ec111011f451",
   "metadata": {},
   "source": [
    "### Geschichte"
   ]
  },
  {
   "cell_type": "markdown",
   "id": "34c481a2-f8ed-4bdd-8c01-f8d14154a63f",
   "metadata": {},
   "source": [
    "CNNs sind spätestens seit AlexNET (2012) aus dem Deep Learning nicht mehr wegzudenken.\n",
    "\n",
    "Auch die CNN sind aus Erkenntnissen der Neurobiologie heraus entstanden. Bereits in den 60er Jahren entdeckte man, dass in der Netzhaut ein massice Vorverarbeitung optische Signale stattfindet, da es wesentlich weniger Nervenbahnen im Sehnerv gibt als Nerven in der Netzhaut. Lokal werden sowohl einfache \"Features\" wie Kanten oder Streifen verarbeitet als auch komplexere Strukturen erkann. 1982 erhielten __David H. Hubel__ und __Torsten Wiesel__ für ihre Arbeit in diesem Bereich den Medizin-Nobelpreis \"für ihre Entdeckungen über Informationsverarbeitung im Sehwahrnehmungssystem\":\n",
    "\n",
    "> In einem Experiment aus dem Jahr 1959 führten die Forscher eine Mikroelektrode in den primären visuellen Kortex einer narkotisierten Katze ein. Anschließend projizierten sie Muster aus Licht und Dunkelheit auf eine Leinwand vor der Katze. Sie stellten fest, dass einige Neuronen schnell feuerten, wenn sie Linien in einem bestimmten Winkel sahen, während andere Neuronen auf einen anderen Winkel am stärksten reagierten. Einige dieser Neuronen reagierten unterschiedlich auf Licht- und Dunkelmuster. Hubel und Wiesel bezeichneten diese Neuronen als einfache Zellen. Andere Neuronen, die sie als komplexe Zellen bezeichneten, erkannten Kanten unabhängig von ihrer Position im rezeptiven Feld des Neurons und konnten bevorzugt Bewegungen in bestimmten Richtungen wahrnehmen. Diese Studien zeigten, wie das visuelle System komplexe Darstellungen von visuellen Informationen aus einfachen Reizmerkmalen konstruiert. [Quelle: engl. Wikipedia]\n",
    "\n"
   ]
  },
  {
   "cell_type": "markdown",
   "id": "50d7ba4c-93a8-4e93-82c6-fb0c92ab3458",
   "metadata": {},
   "source": [
    "https://en.wikipedia.org/wiki/David_H._Hubel"
   ]
  }
 ],
 "metadata": {
  "kernelspec": {
   "display_name": "Python 3 (ipykernel)",
   "language": "python",
   "name": "python3"
  },
  "language_info": {
   "codemirror_mode": {
    "name": "ipython",
    "version": 3
   },
   "file_extension": ".py",
   "mimetype": "text/x-python",
   "name": "python",
   "nbconvert_exporter": "python",
   "pygments_lexer": "ipython3",
   "version": "3.12.3"
  }
 },
 "nbformat": 4,
 "nbformat_minor": 5
}
