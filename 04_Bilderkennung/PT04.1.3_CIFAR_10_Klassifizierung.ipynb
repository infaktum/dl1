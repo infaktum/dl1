{
 "cells": [
  {
   "cell_type": "markdown",
   "id": "c3f29384-2d74-4beb-b292-d2825da9604a",
   "metadata": {},
   "source": [
    "# Klassifizierung Datensatz CIFAR-10"
   ]
  },
  {
   "cell_type": "markdown",
   "id": "7f2685d4-f49f-4bf4-8254-4bd209cb2da5",
   "metadata": {},
   "source": [
    "Der CIFAR-10-Datensatz betseht aus 60.000 Bildern im Format 32 x 32 Pixeln, aufgeteilt in 10 Klassen mit je 6.000 Bildern:\n",
    "\n",
    "Er besteht aus 50.000 Bildern für das Training und 10.000 Bildern für Tests."
   ]
  },
  {
   "cell_type": "code",
   "execution_count": 1,
   "id": "daa118ed-6a1c-4a2b-bafc-dbda7fc3ebaf",
   "metadata": {},
   "outputs": [],
   "source": [
    "import torch\n",
    "import torchvision\n",
    "from torch.utils.data import Dataset, DataLoader\n",
    "from torchvision import datasets\n",
    "from torchvision.transforms import ToTensor"
   ]
  },
  {
   "cell_type": "code",
   "execution_count": 2,
   "id": "7b408a89-c6d5-4727-bcf0-270be45ebe55",
   "metadata": {},
   "outputs": [],
   "source": [
    "root = './data'\n",
    "\n",
    "training_data = datasets.CIFAR10(root=root,train=True,download=True,transform=ToTensor())\n",
    "test_data = datasets.CIFAR10(root=root,train=False,download=True,transform=ToTensor())\n",
    "\n",
    "batch_size = 64\n",
    "train_loader = DataLoader(training_data, batch_size=batch_size, shuffle=True)\n",
    "test_loader = DataLoader(test_data, batch_size=batch_size, shuffle=False)\n"
   ]
  },
  {
   "cell_type": "code",
   "execution_count": null,
   "id": "5d3de9e2-24a6-47cf-b286-c8c0d1f0dcfb",
   "metadata": {},
   "outputs": [],
   "source": [
    "from torch.utils.tensorboard import SummaryWriter\n",
    "writer = SummaryWriter()"
   ]
  },
  {
   "cell_type": "markdown",
   "id": "459faf21-4db2-4742-8940-cf4f83d689b4",
   "metadata": {},
   "source": [
    "## Das Neuronale Netz"
   ]
  },
  {
   "cell_type": "code",
   "execution_count": 3,
   "id": "a3942444-d657-46be-97e3-0c8581269357",
   "metadata": {},
   "outputs": [],
   "source": [
    "import torch.nn as nn\n",
    "import torch.nn.functional as F"
   ]
  },
  {
   "cell_type": "code",
   "execution_count": 4,
   "id": "2ccffc49-4911-4d00-957a-f7d8ada9bc5e",
   "metadata": {},
   "outputs": [],
   "source": [
    "class SimpleNet(nn.Module):\n",
    "\n",
    "    def __init__(self, n_features, n_classes):\n",
    "        super(SimpleNet, self).__init__()\n",
    "        self.n_features = n_features\n",
    "        self.fc1 = nn.Linear(n_features, 800)\n",
    "        self.fc2 = nn.Linear(800, 200)\n",
    "        self.fc3 = nn.Linear(200,n_classes)\n",
    "    \n",
    "    def forward(self, x):\n",
    "\n",
    "        x = x.view(-1, self.n_features)      \n",
    "        x = F.relu(self.fc1(x))\n",
    "        x = F.relu(self.fc2(x))\n",
    "        x = self.fc3(x)\n",
    "        return x"
   ]
  },
  {
   "cell_type": "code",
   "execution_count": 5,
   "id": "cf7c0b0c-70d2-4536-aa13-3f3dfcdc8479",
   "metadata": {},
   "outputs": [],
   "source": [
    "model = SimpleNet(3 * 32 * 32, 10)    "
   ]
  },
  {
   "cell_type": "code",
   "execution_count": 7,
   "id": "c5224fd1-fd0e-4d3f-b5e7-547700c617ea",
   "metadata": {},
   "outputs": [],
   "source": [
    "images, labels = next(iter(train_loader))\n",
    "grid = torchvision.utils.make_grid(images)\n",
    "writer.add_image('images', grid, 0)\n",
    "writer.add_graph(model, images)\n",
    "writer.close()"
   ]
  },
  {
   "cell_type": "code",
   "execution_count": 8,
   "id": "de58d8b6-bc4b-40ba-a4e9-f88b2f7db531",
   "metadata": {},
   "outputs": [
    {
     "data": {
      "text/plain": [
       "SimpleNet(\n",
       "  (fc1): Linear(in_features=3072, out_features=800, bias=True)\n",
       "  (fc2): Linear(in_features=800, out_features=200, bias=True)\n",
       "  (fc3): Linear(in_features=200, out_features=10, bias=True)\n",
       ")"
      ]
     },
     "execution_count": 8,
     "metadata": {},
     "output_type": "execute_result"
    }
   ],
   "source": [
    "device = 'cuda' if torch.cuda.is_available() else 'cpu'\n",
    "model.to(device)"
   ]
  },
  {
   "cell_type": "code",
   "execution_count": 10,
   "id": "68cc3d6d-6a17-4a5c-9326-48b6cb021326",
   "metadata": {},
   "outputs": [],
   "source": [
    "import torch.optim as optim\n",
    "\n",
    "optimizer = optim.Adam(model.parameters(), lr=0.001)"
   ]
  },
  {
   "cell_type": "code",
   "execution_count": 11,
   "id": "d9b9b2bd-1d74-45a2-8594-b451f84dcfc8",
   "metadata": {},
   "outputs": [],
   "source": [
    "def train(model, optimizer, loss_fn, train_loader, val_loader, epochs=20, device=\"cpu\"):\n",
    "    for epoch in range(1, epochs+1):\n",
    "        training_loss = 0.0\n",
    "        valid_loss = 0.0\n",
    "        model.train()\n",
    "        for batch in train_loader:\n",
    "            optimizer.zero_grad()\n",
    "            inputs, targets = batch\n",
    "            #print(len(inputs), len(targets))\n",
    "            inputs = inputs.to(device)\n",
    "            targets = targets.to(device)\n",
    "            output = model(inputs)\n",
    "            #print(len(output), len(targets))\n",
    "            loss = loss_fn(output, targets)\n",
    "            loss.backward()\n",
    "            optimizer.step()\n",
    "            training_loss += loss.data.item() * inputs.size(0)\n",
    "        training_loss /= len(train_loader.dataset)\n",
    "        \n",
    "        model.eval()\n",
    "        num_correct = 0 \n",
    "        num_examples = 0\n",
    "        for batch in val_loader:\n",
    "            inputs, targets = batch\n",
    "            inputs = inputs.to(device)\n",
    "            output = model(inputs)\n",
    "            targets = targets.to(device)\n",
    "            loss = loss_fn(output,targets) \n",
    "            valid_loss += loss.data.item() * inputs.size(0)\n",
    "            correct = torch.eq(torch.max(F.softmax(output, dim=1), dim=1)[1], targets)\n",
    "            num_correct += torch.sum(correct).item()\n",
    "            num_examples += correct.shape[0]\n",
    "        valid_loss /= len(val_loader.dataset)\n",
    "        writer.add_scalar('Loss/train', valid_loss,epoch)\n",
    "        print('Epoch: {}, Training Loss: {:.2f}, Validation Loss: {:.2f}, accuracy = {:.2%}'.format(epoch, training_loss,\n",
    "        valid_loss, num_correct / num_examples))"
   ]
  },
  {
   "cell_type": "code",
   "execution_count": null,
   "id": "8231d1e4-48a2-4b5e-8bc2-2f62c2a429f7",
   "metadata": {},
   "outputs": [],
   "source": []
  },
  {
   "cell_type": "code",
   "execution_count": 13,
   "id": "3b9a0090-812f-4219-9df4-fc638c1c83a5",
   "metadata": {},
   "outputs": [
    {
     "name": "stdout",
     "output_type": "stream",
     "text": [
      "Epoch: 1, Training Loss: 1.85, Validation Loss: 1.68, accuracy = 40.21%\n",
      "Epoch: 2, Training Loss: 1.66, Validation Loss: 1.61, accuracy = 42.58%\n",
      "Epoch: 3, Training Loss: 1.57, Validation Loss: 1.53, accuracy = 45.77%\n",
      "Epoch: 4, Training Loss: 1.51, Validation Loss: 1.49, accuracy = 46.84%\n",
      "Epoch: 5, Training Loss: 1.47, Validation Loss: 1.46, accuracy = 48.76%\n"
     ]
    },
    {
     "ename": "NameError",
     "evalue": "name 'simplenet' is not defined",
     "output_type": "error",
     "traceback": [
      "\u001b[1;31m---------------------------------------------------------------------------\u001b[0m",
      "\u001b[1;31mNameError\u001b[0m                                 Traceback (most recent call last)",
      "Cell \u001b[1;32mIn[13], line 2\u001b[0m\n\u001b[0;32m      1\u001b[0m train(model, optimizer,nn\u001b[38;5;241m.\u001b[39mCrossEntropyLoss(), train_loader,test_loader, epochs\u001b[38;5;241m=\u001b[39m\u001b[38;5;241m5\u001b[39m, device\u001b[38;5;241m=\u001b[39mdevice)\n\u001b[1;32m----> 2\u001b[0m torch\u001b[38;5;241m.\u001b[39msave(simplenet, \u001b[38;5;124m\"\u001b[39m\u001b[38;5;124m./networks/simplenet_49\u001b[39m\u001b[38;5;124m\"\u001b[39m)\n",
      "\u001b[1;31mNameError\u001b[0m: name 'simplenet' is not defined"
     ]
    }
   ],
   "source": [
    "train(model, optimizer,nn.CrossEntropyLoss(), train_loader,test_loader, epochs=5, device=device)\n",
    "torch.save(model, \"./networks/simplenet_49\") \n",
    "#model = torch.load(\"./networks/simplenet_49\",weights_only=False)"
   ]
  },
  {
   "cell_type": "code",
   "execution_count": null,
   "id": "e626783f-daa1-4a5a-b18a-5f442d225e8d",
   "metadata": {},
   "outputs": [],
   "source": [
    "labels = training_data.classes\n",
    "model.to(\"cpu\")\n",
    "\n",
    "for n in range(10):\n",
    "    image, label = training_data[n]\n",
    "    model.eval()\n",
    "    prediction = F.softmax(model(image), dim=1)\n",
    "    prediction = prediction.argmax()\n",
    "    \n",
    "    print(f'{n}: {labels[prediction]} {prediction} - {training_data.targets[n]} {labels[training_data.targets[n]]}')     "
   ]
  },
  {
   "cell_type": "code",
   "execution_count": null,
   "id": "4b2a0cc6-46f8-4bbd-b7c3-7dcb8de0b38f",
   "metadata": {},
   "outputs": [],
   "source": []
  }
 ],
 "metadata": {
  "kernelspec": {
   "display_name": "Python 3 (ipykernel)",
   "language": "python",
   "name": "python3"
  },
  "language_info": {
   "codemirror_mode": {
    "name": "ipython",
    "version": 3
   },
   "file_extension": ".py",
   "mimetype": "text/x-python",
   "name": "python",
   "nbconvert_exporter": "python",
   "pygments_lexer": "ipython3",
   "version": "3.12.3"
  }
 },
 "nbformat": 4,
 "nbformat_minor": 5
}
