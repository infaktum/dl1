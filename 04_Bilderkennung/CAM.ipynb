{
 "cells": [
  {
   "cell_type": "markdown",
   "id": "aa854d5b-d5d8-467b-8cdf-0eadd89e1738",
   "metadata": {},
   "source": [
    "# Class Activation Map"
   ]
  },
  {
   "cell_type": "code",
   "execution_count": 2,
   "id": "6389738e-6055-4ea3-b0e8-58d82505a9a9",
   "metadata": {},
   "outputs": [],
   "source": [
    "import cv2\n",
    "import torch\n",
    "import torch.nn as nn\n",
    "from torchvision import models\n",
    "import torch.nn.functional as F\n",
    "import numpy as np\n",
    "import torchvision.transforms as transforms\n",
    "import torchvision.datasets as datasets\n",
    "from torch.autograd import Variable\n",
    "from PIL import Image\n",
    "from PIL import ImageFile\n",
    "ImageFile.LOAD_TRUNCATED_IMAGES = True"
   ]
  },
  {
   "cell_type": "code",
   "execution_count": 5,
   "id": "ff5e4644-cc7d-4b2c-b87b-4ffa31821d09",
   "metadata": {},
   "outputs": [],
   "source": [
    "\n",
    "img_transform = transforms.Compose([transforms.Resize((224, 224)),transforms.ToTensor(),\n",
    "                                    transforms.Normalize((0.5,), (0.5,))])\n",
    "\n",
    "train_data_dir = datasets.ImageFolder(\"./data/cat_and_fish\", transform = img_transform)"
   ]
  },
  {
   "cell_type": "code",
   "execution_count": 7,
   "id": "32bdf14c-afe5-48f5-9fb8-c3e6ea6532e9",
   "metadata": {},
   "outputs": [],
   "source": [
    "batch_size=64\n",
    "train_loader = torch.utils.data.DataLoader(train_data_dir, batch_size=batch_size, shuffle=True)"
   ]
  },
  {
   "cell_type": "code",
   "execution_count": 8,
   "id": "13147af6-3683-4bf7-8382-cd4a8bcc6feb",
   "metadata": {},
   "outputs": [
    {
     "name": "stderr",
     "output_type": "stream",
     "text": [
      "C:\\tools\\Anaconda3\\envs\\ki\\Lib\\site-packages\\torchvision\\models\\_utils.py:208: UserWarning: The parameter 'pretrained' is deprecated since 0.13 and may be removed in the future, please use 'weights' instead.\n",
      "  warnings.warn(\n",
      "C:\\tools\\Anaconda3\\envs\\ki\\Lib\\site-packages\\torchvision\\models\\_utils.py:223: UserWarning: Arguments other than a weight enum or `None` for 'weights' are deprecated since 0.13 and may be removed in the future. The current behavior is equivalent to passing `weights=VGG16_Weights.IMAGENET1K_V1`. You can also use `weights=VGG16_Weights.DEFAULT` to get the most up-to-date weights.\n",
      "  warnings.warn(msg)\n",
      "Downloading: \"https://download.pytorch.org/models/vgg16-397923af.pth\" to C:\\Users\\Admin/.cache\\torch\\hub\\checkpoints\\vgg16-397923af.pth\n",
      "100%|██████████| 528M/528M [01:18<00:00, 7.02MB/s] \n"
     ]
    }
   ],
   "source": [
    "vgg16 = models.vgg16(pretrained=True) \n",
    "mod = nn.Sequential(*list(vgg16.children())[:-1])"
   ]
  },
  {
   "cell_type": "code",
   "execution_count": 15,
   "id": "ad6dc076-073a-4a82-987b-3df54946d4e1",
   "metadata": {},
   "outputs": [],
   "source": [
    "class Net(nn.Module):\n",
    "    def __init__(self):\n",
    "        super(Net,self).__init__() \n",
    "        #img = images\n",
    "        self.fc=nn.Linear(512,c)\n",
    "\n",
    "    \n",
    "    def forward(self,x):     \n",
    "        x=x.view(512,7*7).mean(1).view(1,-1)\n",
    "        x=self.fc(x)\n",
    "        return  F.softmax(x,dim=1)"
   ]
  },
  {
   "cell_type": "code",
   "execution_count": 14,
   "id": "cebc20f3-1934-46c1-b959-f9cafc3c80c5",
   "metadata": {},
   "outputs": [
    {
     "ename": "TypeError",
     "evalue": "Net.__init__() missing 1 required positional argument: 'c'",
     "output_type": "error",
     "traceback": [
      "\u001b[1;31m---------------------------------------------------------------------------\u001b[0m",
      "\u001b[1;31mTypeError\u001b[0m                                 Traceback (most recent call last)",
      "Cell \u001b[1;32mIn[14], line 1\u001b[0m\n\u001b[1;32m----> 1\u001b[0m model\u001b[38;5;241m=\u001b[39mnn\u001b[38;5;241m.\u001b[39mSequential(mod,Net())\n",
      "\u001b[1;31mTypeError\u001b[0m: Net.__init__() missing 1 required positional argument: 'c'"
     ]
    }
   ],
   "source": [
    "model=nn.Sequential(mod,Net())"
   ]
  },
  {
   "cell_type": "code",
   "execution_count": 11,
   "id": "c11cda5c-7bb7-4a88-bd1e-7a529c45e826",
   "metadata": {},
   "outputs": [
    {
     "ename": "NameError",
     "evalue": "name 'model' is not defined",
     "output_type": "error",
     "traceback": [
      "\u001b[1;31m---------------------------------------------------------------------------\u001b[0m",
      "\u001b[1;31mNameError\u001b[0m                                 Traceback (most recent call last)",
      "Cell \u001b[1;32mIn[11], line 2\u001b[0m\n\u001b[0;32m      1\u001b[0m trainable_parameters \u001b[38;5;241m=\u001b[39m []\n\u001b[1;32m----> 2\u001b[0m \u001b[38;5;28;01mfor\u001b[39;00m name, p \u001b[38;5;129;01min\u001b[39;00m model\u001b[38;5;241m.\u001b[39mnamed_parameters():\n\u001b[0;32m      3\u001b[0m     \u001b[38;5;28;01mif\u001b[39;00m \u001b[38;5;124m\"\u001b[39m\u001b[38;5;124mfc\u001b[39m\u001b[38;5;124m\"\u001b[39m \u001b[38;5;129;01min\u001b[39;00m name:\n\u001b[0;32m      4\u001b[0m         trainable_parameters\u001b[38;5;241m.\u001b[39mappend(p)\n",
      "\u001b[1;31mNameError\u001b[0m: name 'model' is not defined"
     ]
    }
   ],
   "source": [
    "trainable_parameters = []\n",
    "for name, p in model.named_parameters():\n",
    "    if \"fc\" in name:\n",
    "        trainable_parameters.append(p)\n",
    "optimizer = torch.optim.SGD(params=trainable_parameters, lr=0.1, momentum=1e-5)  \n",
    "criterion = nn.CrossEntropyLoss()"
   ]
  },
  {
   "cell_type": "code",
   "execution_count": 16,
   "id": "5d8b4951-cb8f-4ca0-85cd-e9a8e9d20b9e",
   "metadata": {},
   "outputs": [
    {
     "ename": "NameError",
     "evalue": "name 'num_epochs' is not defined",
     "output_type": "error",
     "traceback": [
      "\u001b[1;31m---------------------------------------------------------------------------\u001b[0m",
      "\u001b[1;31mNameError\u001b[0m                                 Traceback (most recent call last)",
      "Cell \u001b[1;32mIn[16], line 5\u001b[0m\n\u001b[0;32m      2\u001b[0m loss_list \u001b[38;5;241m=\u001b[39m []\n\u001b[0;32m      3\u001b[0m acc_list \u001b[38;5;241m=\u001b[39m []\n\u001b[1;32m----> 5\u001b[0m \u001b[38;5;28;01mfor\u001b[39;00m epoch \u001b[38;5;129;01min\u001b[39;00m \u001b[38;5;28mrange\u001b[39m(num_epochs):\n\u001b[0;32m      6\u001b[0m     \u001b[38;5;28;01mfor\u001b[39;00m i, (images, labels) \u001b[38;5;129;01min\u001b[39;00m \u001b[38;5;28menumerate\u001b[39m(train_loader):\n\u001b[0;32m      7\u001b[0m         \u001b[38;5;66;03m# Run the forward pass\u001b[39;00m\n\u001b[0;32m      8\u001b[0m         outputs \u001b[38;5;241m=\u001b[39m model(images)\n",
      "\u001b[1;31mNameError\u001b[0m: name 'num_epochs' is not defined"
     ]
    }
   ],
   "source": [
    "total_step = len(train_loader)\n",
    "loss_list = []\n",
    "acc_list = []\n",
    "\n",
    "for epoch in range(num_epochs):\n",
    "    for i, (images, labels) in enumerate(train_loader):\n",
    "        # Run the forward pass\n",
    "        outputs = model(images)\n",
    "        print(outputs.shape)\n",
    "        loss = criterion(outputs, labels)\n",
    "        loss_list.append(loss.item())\n",
    "\n",
    "        # Backprop \n",
    "        optimizer.zero_grad()\n",
    "        loss.backward()\n",
    "        optimizer.step()\n",
    "\n",
    "        # Track the accuracy\n",
    "        total = labels.size(0)\n",
    "        _, predicted = torch.max(outputs.data, 1)\n",
    "        correct = (predicted == labels).sum().item()\n",
    "        acc_list.append(correct / total)\n",
    "\n",
    "        if (i + 1) % 100 == 0:\n",
    "            print('Epoch [{}/{}], Step [{}/{}], Loss: {:.4f}, Accuracy: {:.2f}%'\n",
    "                  .format(epoch + 1, num_epochs, i + 1, total_step, loss.item(),\n",
    "                          (correct / total) * 100))"
   ]
  },
  {
   "cell_type": "code",
   "execution_count": 17,
   "id": "2a7521d2-a274-4e68-86d5-6fe9eb976017",
   "metadata": {},
   "outputs": [
    {
     "ename": "NameError",
     "evalue": "name 'c' is not defined",
     "output_type": "error",
     "traceback": [
      "\u001b[1;31m---------------------------------------------------------------------------\u001b[0m",
      "\u001b[1;31mNameError\u001b[0m                                 Traceback (most recent call last)",
      "Cell \u001b[1;32mIn[17], line 1\u001b[0m\n\u001b[1;32m----> 1\u001b[0m params \u001b[38;5;241m=\u001b[39m \u001b[38;5;28mlist\u001b[39m(Net()\u001b[38;5;241m.\u001b[39mparameters())\n\u001b[0;32m      2\u001b[0m weight \u001b[38;5;241m=\u001b[39m np\u001b[38;5;241m.\u001b[39msqueeze(params[\u001b[38;5;241m-\u001b[39m\u001b[38;5;241m1\u001b[39m]\u001b[38;5;241m.\u001b[39mdata\u001b[38;5;241m.\u001b[39mnumpy())\n",
      "Cell \u001b[1;32mIn[15], line 5\u001b[0m, in \u001b[0;36mNet.__init__\u001b[1;34m(self)\u001b[0m\n\u001b[0;32m      3\u001b[0m \u001b[38;5;28msuper\u001b[39m(Net,\u001b[38;5;28mself\u001b[39m)\u001b[38;5;241m.\u001b[39m\u001b[38;5;21m__init__\u001b[39m() \n\u001b[0;32m      4\u001b[0m \u001b[38;5;66;03m#img = images\u001b[39;00m\n\u001b[1;32m----> 5\u001b[0m \u001b[38;5;28mself\u001b[39m\u001b[38;5;241m.\u001b[39mfc\u001b[38;5;241m=\u001b[39mnn\u001b[38;5;241m.\u001b[39mLinear(\u001b[38;5;241m512\u001b[39m,c)\n",
      "\u001b[1;31mNameError\u001b[0m: name 'c' is not defined"
     ]
    }
   ],
   "source": [
    "\n",
    "params = list(Net().parameters())\n",
    "weight = np.squeeze(params[-1].data.numpy())"
   ]
  },
  {
   "cell_type": "code",
   "execution_count": 18,
   "id": "43bf93ac-e600-4ca2-9d59-126eff43b5a6",
   "metadata": {},
   "outputs": [],
   "source": [
    "def return_CAM(feature_conv, weight, class_idx):\n",
    "    # generate the class -activation maps upsample to 256x256\n",
    "    size_upsample = (256, 256)\n",
    "    bz, nc, h, w = feature_conv.shape\n",
    "    output_cam = []\n",
    "    for idx in class_idx:\n",
    "        beforeDot =  feature_conv.reshape((nc, h*w))\n",
    "        cam = np.matmul(weight[idx], beforeDot)\n",
    "        cam = cam.reshape(h, w)\n",
    "        cam = cam - np.min(cam)\n",
    "        cam_img = cam / np.max(cam)\n",
    "        cam_img = np.uint8(255 * cam_img)\n",
    "        output_cam.append(cv2.resize(cam_img, size_upsample))\n",
    "    return output_cam"
   ]
  },
  {
   "cell_type": "code",
   "execution_count": 19,
   "id": "e814b7ca-7644-43f7-b503-4dc14e43646f",
   "metadata": {},
   "outputs": [],
   "source": [
    "normalize = transforms.Normalize(\n",
    "   mean=[0.485, 0.456, 0.406],\n",
    "   std=[0.229, 0.224, 0.225]\n",
    ")\n",
    "preprocess = transforms.Compose([\n",
    "   transforms.Resize((224,224)),\n",
    "   transforms.ToTensor(),\n",
    "   normalize\n",
    "])"
   ]
  },
  {
   "cell_type": "code",
   "execution_count": 20,
   "id": "7736ec05-df20-4044-b9ea-4fd8815df7c7",
   "metadata": {},
   "outputs": [
    {
     "ename": "NameError",
     "evalue": "name 'IMG_URL' is not defined",
     "output_type": "error",
     "traceback": [
      "\u001b[1;31m---------------------------------------------------------------------------\u001b[0m",
      "\u001b[1;31mNameError\u001b[0m                                 Traceback (most recent call last)",
      "Cell \u001b[1;32mIn[20], line 1\u001b[0m\n\u001b[1;32m----> 1\u001b[0m \u001b[38;5;28;01mfor\u001b[39;00m fname \u001b[38;5;129;01min\u001b[39;00m IMG_URL:\n\u001b[0;32m      3\u001b[0m     fname \u001b[38;5;241m=\u001b[39m fname\u001b[38;5;241m.\u001b[39mrstrip(\u001b[38;5;124m'\u001b[39m\u001b[38;5;130;01m\\n\u001b[39;00m\u001b[38;5;124m'\u001b[39m)    \n\u001b[0;32m      4\u001b[0m     img_pil \u001b[38;5;241m=\u001b[39m Image\u001b[38;5;241m.\u001b[39mopen(org_loc\u001b[38;5;241m+\u001b[39mfname\u001b[38;5;241m+\u001b[39m\u001b[38;5;124m'\u001b[39m\u001b[38;5;124m.png\u001b[39m\u001b[38;5;124m'\u001b[39m)\n",
      "\u001b[1;31mNameError\u001b[0m: name 'IMG_URL' is not defined"
     ]
    }
   ],
   "source": [
    "for fname in IMG_URL:\n",
    "    \n",
    "    fname = fname.rstrip('\\n')    \n",
    "    img_pil = Image.open(org_loc+fname+'.png')\n",
    "    img_tensor = preprocess(img_pil)\n",
    "    img_variable = Variable(img_tensor.unsqueeze(0))\n",
    "    logit = model(img_variable)\n",
    "\n",
    "    h_x = F.softmax(logit, dim=1).data.squeeze()\n",
    " \n",
    "    probs, idx = h_x.sort(0, True)\n",
    "    probs = probs.detach().numpy()\n",
    "    idx = idx.numpy()\n",
    "    \n",
    "    predicted_labels.append(idx[0])\n",
    "    predicted =  train_loader.dataset.classes[idx[0]]\n",
    "    \n",
    "    print(\"Target: \" + fname + \" | Predicted: \" +  predicted) \n",
    " \n",
    "    features_blobs = mod(img_variable)\n",
    "    features_blobs1 = features_blobs.cpu().detach().numpy()\n",
    "    CAMs = return_CAM(features_blobs1, weight, [idx[0]])\n",
    "\n",
    "    readImg = org_loc+fname+'.png'\n",
    "    img = cv2.imread(readImg)\n",
    "    height, width, _ = img.shape\n",
    "    heatmap = cv2.applyColorMap(cv2.resize(CAMs[0],(width, height)), cv2.COLORMAP_JET)\n",
    "    result = heatmap * 0.5 + img * 0.5\n",
    "  \n",
    "    cv2.imwrite(\"image_1\", result)"
   ]
  },
  {
   "cell_type": "code",
   "execution_count": null,
   "id": "1912e5d3-1c10-400d-b3a6-f90ed518003b",
   "metadata": {},
   "outputs": [],
   "source": [
    "https://medium.com/intelligentmachines/implementation-of-class-activation-map-cam-with-pytorch-c32f7e414923"
   ]
  }
 ],
 "metadata": {
  "kernelspec": {
   "display_name": "Python 3 (ipykernel)",
   "language": "python",
   "name": "python3"
  },
  "language_info": {
   "codemirror_mode": {
    "name": "ipython",
    "version": 3
   },
   "file_extension": ".py",
   "mimetype": "text/x-python",
   "name": "python",
   "nbconvert_exporter": "python",
   "pygments_lexer": "ipython3",
   "version": "3.12.3"
  }
 },
 "nbformat": 4,
 "nbformat_minor": 5
}
