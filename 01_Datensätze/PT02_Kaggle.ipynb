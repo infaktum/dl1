{
 "cells": [
  {
   "cell_type": "markdown",
   "id": "70cf3c1c-7749-4c51-833a-4932be48ebae",
   "metadata": {},
   "source": [
    "# Bilddaten auf Kagglehub"
   ]
  },
  {
   "cell_type": "markdown",
   "id": "552f842f-6dc9-4f69-9ebe-b5364b736772",
   "metadata": {},
   "source": [
    "Falls die Bibliothek `kagglehub` noch nicht geladen wurde:\n",
    "```\n",
    "%pip install kagglehub\n",
    "```"
   ]
  },
  {
   "cell_type": "code",
   "execution_count": 6,
   "id": "278dda70-0751-4add-8dbe-5e410fcf3e11",
   "metadata": {},
   "outputs": [
    {
     "name": "stdout",
     "output_type": "stream",
     "text": [
      "Path to dataset files: C:\\Users\\Admin\\.cache\\kagglehub\\datasets\\stealthknight\\bird-vs-drone\\versions\\1\n"
     ]
    }
   ],
   "source": [
    "import kagglehub\n",
    "\n",
    "# Download latest version\n",
    "path = kagglehub.dataset_download(\"stealthknight/bird-vs-drone\")\n",
    "\n",
    "print(\"Path to dataset files:\", path)"
   ]
  },
  {
   "cell_type": "code",
   "execution_count": 7,
   "id": "61036613-e173-4d85-b99a-88b6e58a1a73",
   "metadata": {},
   "outputs": [
    {
     "name": "stdout",
     "output_type": "stream",
     "text": [
      "Help on function dataset_download in module kagglehub.datasets:\n",
      "\n",
      "dataset_download(handle: str, path: Optional[str] = None, *, force_download: Optional[bool] = False) -> str\n",
      "    Download dataset files\n",
      "    Args:\n",
      "        handle: (string) the dataset handle\n",
      "        path: (string) Optional path to a file within a dataset\n",
      "        force_download: (bool) Optional flag to force download a dataset, even if it's cached\n",
      "    Returns:\n",
      "        A string requesting the path to the requested dataset files.\n",
      "\n"
     ]
    }
   ],
   "source": [
    "help(kagglehub.dataset_download)"
   ]
  },
  {
   "cell_type": "code",
   "execution_count": null,
   "id": "0ac804dd-2dfb-4c35-9eb2-e3f1383e81bb",
   "metadata": {},
   "outputs": [],
   "source": []
  }
 ],
 "metadata": {
  "kernelspec": {
   "display_name": "Python 3 (ipykernel)",
   "language": "python",
   "name": "python3"
  },
  "language_info": {
   "codemirror_mode": {
    "name": "ipython",
    "version": 3
   },
   "file_extension": ".py",
   "mimetype": "text/x-python",
   "name": "python",
   "nbconvert_exporter": "python",
   "pygments_lexer": "ipython3",
   "version": "3.12.3"
  }
 },
 "nbformat": 4,
 "nbformat_minor": 5
}
